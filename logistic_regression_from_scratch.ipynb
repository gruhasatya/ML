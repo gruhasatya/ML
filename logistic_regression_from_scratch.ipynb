{
  "metadata": {
    "kernelspec": {
      "language": "python",
      "display_name": "Python 3",
      "name": "python3"
    },
    "language_info": {
      "pygments_lexer": "ipython3",
      "nbconvert_exporter": "python",
      "version": "3.6.4",
      "file_extension": ".py",
      "codemirror_mode": {
        "name": "ipython",
        "version": 3
      },
      "name": "python",
      "mimetype": "text/x-python"
    },
    "colab": {
      "name": "logistic-regression-from-scratch.ipynb",
      "provenance": [],
      "include_colab_link": true
    }
  },
  "nbformat_minor": 0,
  "nbformat": 4,
  "cells": [
    {
      "cell_type": "markdown",
      "metadata": {
        "id": "view-in-github",
        "colab_type": "text"
      },
      "source": [
        "<a href=\"https://colab.research.google.com/github/gruhasatya/ML/blob/main/logistic_regression_from_scratch.ipynb\" target=\"_parent\"><img src=\"https://colab.research.google.com/assets/colab-badge.svg\" alt=\"Open In Colab\"/></a>"
      ]
    },
    {
      "cell_type": "markdown",
      "source": [
        "Logistic Regression is a type of **linear model** that's mostly used for **binary classification** but can also be used for **multi-class classification**. If the term linear model seems something familiar, then that might be because Linear Regression is also a type of a linear model.\n",
        "\n",
        "To proceed with this notebook you firstly have to make sure that you understand ML concepts like Linear Regression, Cost Function, and Gradient Descent and mathematical concepts like Logarithm and Matrices. If you don't, then the links below can help you out.\n",
        "\n",
        "1. [Linear Regression](https://medium.com/ml-concepts/linear-regression-101-f4c27fb7a586)\n",
        "\n",
        "2. [Gradient Descent](https://medium.com/ml-concepts/gradient-descent-6a449eae1095)\n",
        "\n",
        "---"
      ],
      "metadata": {
        "id": "XVyp5glgx8nB"
      }
    },
    {
      "cell_type": "code",
      "source": [
        "# Importing neccessary modules.\n",
        "import numpy as np\n",
        "import pandas as pd\n",
        "\n",
        "import plotly.express as px\n",
        "import plotly.graph_objects as go\n",
        "\n",
        "import warnings\n",
        "warnings.filterwarnings(\"ignore\")"
      ],
      "metadata": {
        "id": "LoRYqpo4mVD_"
      },
      "execution_count": 1,
      "outputs": []
    },
    {
      "cell_type": "code",
      "source": [
        "# Loading the data.\n",
        "df = pd.read_csv(\"/Social_Network_Ads.csv\")\n",
        "df.drop(columns = [\"User ID\", \"Gender\"], inplace = True)\n",
        "df = df.rename(columns = {\"Age\":\"Feature 1\", \"EstimatedSalary\":\"Feature 2\", \"Purchased\":\"Target\"})\n",
        "df.head()"
      ],
      "metadata": {
        "id": "1XQlWvaPd9yP",
        "colab": {
          "base_uri": "https://localhost:8080/",
          "height": 206
        },
        "outputId": "03ad4afd-c0ec-444b-9911-4f7e8571bc08"
      },
      "execution_count": 2,
      "outputs": [
        {
          "output_type": "execute_result",
          "data": {
            "text/plain": [
              "   Feature 1  Feature 2  Target\n",
              "0         19      19000       0\n",
              "1         35      20000       0\n",
              "2         26      43000       0\n",
              "3         27      57000       0\n",
              "4         19      76000       0"
            ],
            "text/html": [
              "\n",
              "  <div id=\"df-9791c117-87d9-475e-8977-ebe067e0ef81\">\n",
              "    <div class=\"colab-df-container\">\n",
              "      <div>\n",
              "<style scoped>\n",
              "    .dataframe tbody tr th:only-of-type {\n",
              "        vertical-align: middle;\n",
              "    }\n",
              "\n",
              "    .dataframe tbody tr th {\n",
              "        vertical-align: top;\n",
              "    }\n",
              "\n",
              "    .dataframe thead th {\n",
              "        text-align: right;\n",
              "    }\n",
              "</style>\n",
              "<table border=\"1\" class=\"dataframe\">\n",
              "  <thead>\n",
              "    <tr style=\"text-align: right;\">\n",
              "      <th></th>\n",
              "      <th>Feature 1</th>\n",
              "      <th>Feature 2</th>\n",
              "      <th>Target</th>\n",
              "    </tr>\n",
              "  </thead>\n",
              "  <tbody>\n",
              "    <tr>\n",
              "      <th>0</th>\n",
              "      <td>19</td>\n",
              "      <td>19000</td>\n",
              "      <td>0</td>\n",
              "    </tr>\n",
              "    <tr>\n",
              "      <th>1</th>\n",
              "      <td>35</td>\n",
              "      <td>20000</td>\n",
              "      <td>0</td>\n",
              "    </tr>\n",
              "    <tr>\n",
              "      <th>2</th>\n",
              "      <td>26</td>\n",
              "      <td>43000</td>\n",
              "      <td>0</td>\n",
              "    </tr>\n",
              "    <tr>\n",
              "      <th>3</th>\n",
              "      <td>27</td>\n",
              "      <td>57000</td>\n",
              "      <td>0</td>\n",
              "    </tr>\n",
              "    <tr>\n",
              "      <th>4</th>\n",
              "      <td>19</td>\n",
              "      <td>76000</td>\n",
              "      <td>0</td>\n",
              "    </tr>\n",
              "  </tbody>\n",
              "</table>\n",
              "</div>\n",
              "      <button class=\"colab-df-convert\" onclick=\"convertToInteractive('df-9791c117-87d9-475e-8977-ebe067e0ef81')\"\n",
              "              title=\"Convert this dataframe to an interactive table.\"\n",
              "              style=\"display:none;\">\n",
              "        \n",
              "  <svg xmlns=\"http://www.w3.org/2000/svg\" height=\"24px\"viewBox=\"0 0 24 24\"\n",
              "       width=\"24px\">\n",
              "    <path d=\"M0 0h24v24H0V0z\" fill=\"none\"/>\n",
              "    <path d=\"M18.56 5.44l.94 2.06.94-2.06 2.06-.94-2.06-.94-.94-2.06-.94 2.06-2.06.94zm-11 1L8.5 8.5l.94-2.06 2.06-.94-2.06-.94L8.5 2.5l-.94 2.06-2.06.94zm10 10l.94 2.06.94-2.06 2.06-.94-2.06-.94-.94-2.06-.94 2.06-2.06.94z\"/><path d=\"M17.41 7.96l-1.37-1.37c-.4-.4-.92-.59-1.43-.59-.52 0-1.04.2-1.43.59L10.3 9.45l-7.72 7.72c-.78.78-.78 2.05 0 2.83L4 21.41c.39.39.9.59 1.41.59.51 0 1.02-.2 1.41-.59l7.78-7.78 2.81-2.81c.8-.78.8-2.07 0-2.86zM5.41 20L4 18.59l7.72-7.72 1.47 1.35L5.41 20z\"/>\n",
              "  </svg>\n",
              "      </button>\n",
              "      \n",
              "  <style>\n",
              "    .colab-df-container {\n",
              "      display:flex;\n",
              "      flex-wrap:wrap;\n",
              "      gap: 12px;\n",
              "    }\n",
              "\n",
              "    .colab-df-convert {\n",
              "      background-color: #E8F0FE;\n",
              "      border: none;\n",
              "      border-radius: 50%;\n",
              "      cursor: pointer;\n",
              "      display: none;\n",
              "      fill: #1967D2;\n",
              "      height: 32px;\n",
              "      padding: 0 0 0 0;\n",
              "      width: 32px;\n",
              "    }\n",
              "\n",
              "    .colab-df-convert:hover {\n",
              "      background-color: #E2EBFA;\n",
              "      box-shadow: 0px 1px 2px rgba(60, 64, 67, 0.3), 0px 1px 3px 1px rgba(60, 64, 67, 0.15);\n",
              "      fill: #174EA6;\n",
              "    }\n",
              "\n",
              "    [theme=dark] .colab-df-convert {\n",
              "      background-color: #3B4455;\n",
              "      fill: #D2E3FC;\n",
              "    }\n",
              "\n",
              "    [theme=dark] .colab-df-convert:hover {\n",
              "      background-color: #434B5C;\n",
              "      box-shadow: 0px 1px 3px 1px rgba(0, 0, 0, 0.15);\n",
              "      filter: drop-shadow(0px 1px 2px rgba(0, 0, 0, 0.3));\n",
              "      fill: #FFFFFF;\n",
              "    }\n",
              "  </style>\n",
              "\n",
              "      <script>\n",
              "        const buttonEl =\n",
              "          document.querySelector('#df-9791c117-87d9-475e-8977-ebe067e0ef81 button.colab-df-convert');\n",
              "        buttonEl.style.display =\n",
              "          google.colab.kernel.accessAllowed ? 'block' : 'none';\n",
              "\n",
              "        async function convertToInteractive(key) {\n",
              "          const element = document.querySelector('#df-9791c117-87d9-475e-8977-ebe067e0ef81');\n",
              "          const dataTable =\n",
              "            await google.colab.kernel.invokeFunction('convertToInteractive',\n",
              "                                                     [key], {});\n",
              "          if (!dataTable) return;\n",
              "\n",
              "          const docLinkHtml = 'Like what you see? Visit the ' +\n",
              "            '<a target=\"_blank\" href=https://colab.research.google.com/notebooks/data_table.ipynb>data table notebook</a>'\n",
              "            + ' to learn more about interactive tables.';\n",
              "          element.innerHTML = '';\n",
              "          dataTable['output_type'] = 'display_data';\n",
              "          await google.colab.output.renderOutput(dataTable, element);\n",
              "          const docLink = document.createElement('div');\n",
              "          docLink.innerHTML = docLinkHtml;\n",
              "          element.appendChild(docLink);\n",
              "        }\n",
              "      </script>\n",
              "    </div>\n",
              "  </div>\n",
              "  "
            ]
          },
          "metadata": {},
          "execution_count": 2
        }
      ]
    },
    {
      "cell_type": "code",
      "source": [
        "# Scaling the data.\n",
        "from sklearn.preprocessing import StandardScaler\n",
        "\n",
        "scaler = StandardScaler()\n",
        "df.iloc[:, :-1] = pd.DataFrame(scaler.fit_transform(df.iloc[:, :-1]), columns = df.columns[:-1])\n",
        "df.head()"
      ],
      "metadata": {
        "id": "T8foOdG1eMkT",
        "colab": {
          "base_uri": "https://localhost:8080/",
          "height": 206
        },
        "outputId": "c23d368a-6baa-4a82-f650-60b8dd4175de"
      },
      "execution_count": 3,
      "outputs": [
        {
          "output_type": "execute_result",
          "data": {
            "text/plain": [
              "   Feature 1  Feature 2  Target\n",
              "0  -1.781797  -1.490046       0\n",
              "1  -0.253587  -1.460681       0\n",
              "2  -1.113206  -0.785290       0\n",
              "3  -1.017692  -0.374182       0\n",
              "4  -1.781797   0.183751       0"
            ],
            "text/html": [
              "\n",
              "  <div id=\"df-cc15289a-205c-4261-b1fc-ab21d1a4d8fd\">\n",
              "    <div class=\"colab-df-container\">\n",
              "      <div>\n",
              "<style scoped>\n",
              "    .dataframe tbody tr th:only-of-type {\n",
              "        vertical-align: middle;\n",
              "    }\n",
              "\n",
              "    .dataframe tbody tr th {\n",
              "        vertical-align: top;\n",
              "    }\n",
              "\n",
              "    .dataframe thead th {\n",
              "        text-align: right;\n",
              "    }\n",
              "</style>\n",
              "<table border=\"1\" class=\"dataframe\">\n",
              "  <thead>\n",
              "    <tr style=\"text-align: right;\">\n",
              "      <th></th>\n",
              "      <th>Feature 1</th>\n",
              "      <th>Feature 2</th>\n",
              "      <th>Target</th>\n",
              "    </tr>\n",
              "  </thead>\n",
              "  <tbody>\n",
              "    <tr>\n",
              "      <th>0</th>\n",
              "      <td>-1.781797</td>\n",
              "      <td>-1.490046</td>\n",
              "      <td>0</td>\n",
              "    </tr>\n",
              "    <tr>\n",
              "      <th>1</th>\n",
              "      <td>-0.253587</td>\n",
              "      <td>-1.460681</td>\n",
              "      <td>0</td>\n",
              "    </tr>\n",
              "    <tr>\n",
              "      <th>2</th>\n",
              "      <td>-1.113206</td>\n",
              "      <td>-0.785290</td>\n",
              "      <td>0</td>\n",
              "    </tr>\n",
              "    <tr>\n",
              "      <th>3</th>\n",
              "      <td>-1.017692</td>\n",
              "      <td>-0.374182</td>\n",
              "      <td>0</td>\n",
              "    </tr>\n",
              "    <tr>\n",
              "      <th>4</th>\n",
              "      <td>-1.781797</td>\n",
              "      <td>0.183751</td>\n",
              "      <td>0</td>\n",
              "    </tr>\n",
              "  </tbody>\n",
              "</table>\n",
              "</div>\n",
              "      <button class=\"colab-df-convert\" onclick=\"convertToInteractive('df-cc15289a-205c-4261-b1fc-ab21d1a4d8fd')\"\n",
              "              title=\"Convert this dataframe to an interactive table.\"\n",
              "              style=\"display:none;\">\n",
              "        \n",
              "  <svg xmlns=\"http://www.w3.org/2000/svg\" height=\"24px\"viewBox=\"0 0 24 24\"\n",
              "       width=\"24px\">\n",
              "    <path d=\"M0 0h24v24H0V0z\" fill=\"none\"/>\n",
              "    <path d=\"M18.56 5.44l.94 2.06.94-2.06 2.06-.94-2.06-.94-.94-2.06-.94 2.06-2.06.94zm-11 1L8.5 8.5l.94-2.06 2.06-.94-2.06-.94L8.5 2.5l-.94 2.06-2.06.94zm10 10l.94 2.06.94-2.06 2.06-.94-2.06-.94-.94-2.06-.94 2.06-2.06.94z\"/><path d=\"M17.41 7.96l-1.37-1.37c-.4-.4-.92-.59-1.43-.59-.52 0-1.04.2-1.43.59L10.3 9.45l-7.72 7.72c-.78.78-.78 2.05 0 2.83L4 21.41c.39.39.9.59 1.41.59.51 0 1.02-.2 1.41-.59l7.78-7.78 2.81-2.81c.8-.78.8-2.07 0-2.86zM5.41 20L4 18.59l7.72-7.72 1.47 1.35L5.41 20z\"/>\n",
              "  </svg>\n",
              "      </button>\n",
              "      \n",
              "  <style>\n",
              "    .colab-df-container {\n",
              "      display:flex;\n",
              "      flex-wrap:wrap;\n",
              "      gap: 12px;\n",
              "    }\n",
              "\n",
              "    .colab-df-convert {\n",
              "      background-color: #E8F0FE;\n",
              "      border: none;\n",
              "      border-radius: 50%;\n",
              "      cursor: pointer;\n",
              "      display: none;\n",
              "      fill: #1967D2;\n",
              "      height: 32px;\n",
              "      padding: 0 0 0 0;\n",
              "      width: 32px;\n",
              "    }\n",
              "\n",
              "    .colab-df-convert:hover {\n",
              "      background-color: #E2EBFA;\n",
              "      box-shadow: 0px 1px 2px rgba(60, 64, 67, 0.3), 0px 1px 3px 1px rgba(60, 64, 67, 0.15);\n",
              "      fill: #174EA6;\n",
              "    }\n",
              "\n",
              "    [theme=dark] .colab-df-convert {\n",
              "      background-color: #3B4455;\n",
              "      fill: #D2E3FC;\n",
              "    }\n",
              "\n",
              "    [theme=dark] .colab-df-convert:hover {\n",
              "      background-color: #434B5C;\n",
              "      box-shadow: 0px 1px 3px 1px rgba(0, 0, 0, 0.15);\n",
              "      filter: drop-shadow(0px 1px 2px rgba(0, 0, 0, 0.3));\n",
              "      fill: #FFFFFF;\n",
              "    }\n",
              "  </style>\n",
              "\n",
              "      <script>\n",
              "        const buttonEl =\n",
              "          document.querySelector('#df-cc15289a-205c-4261-b1fc-ab21d1a4d8fd button.colab-df-convert');\n",
              "        buttonEl.style.display =\n",
              "          google.colab.kernel.accessAllowed ? 'block' : 'none';\n",
              "\n",
              "        async function convertToInteractive(key) {\n",
              "          const element = document.querySelector('#df-cc15289a-205c-4261-b1fc-ab21d1a4d8fd');\n",
              "          const dataTable =\n",
              "            await google.colab.kernel.invokeFunction('convertToInteractive',\n",
              "                                                     [key], {});\n",
              "          if (!dataTable) return;\n",
              "\n",
              "          const docLinkHtml = 'Like what you see? Visit the ' +\n",
              "            '<a target=\"_blank\" href=https://colab.research.google.com/notebooks/data_table.ipynb>data table notebook</a>'\n",
              "            + ' to learn more about interactive tables.';\n",
              "          element.innerHTML = '';\n",
              "          dataTable['output_type'] = 'display_data';\n",
              "          await google.colab.output.renderOutput(dataTable, element);\n",
              "          const docLink = document.createElement('div');\n",
              "          docLink.innerHTML = docLinkHtml;\n",
              "          element.appendChild(docLink);\n",
              "        }\n",
              "      </script>\n",
              "    </div>\n",
              "  </div>\n",
              "  "
            ]
          },
          "metadata": {},
          "execution_count": 3
        }
      ]
    },
    {
      "cell_type": "code",
      "source": [
        "# Plotting the target values.\n",
        "fig = px.scatter(data_frame = df, x = \"Feature 1\", y = \"Target\", color = \"Target\", color_continuous_scale = [\"red\", \"blue\"])\n",
        "fig.show()"
      ],
      "metadata": {
        "id": "5kx5098SeJyg",
        "colab": {
          "base_uri": "https://localhost:8080/",
          "height": 542
        },
        "outputId": "647b2a64-bab8-455f-a212-4349c704b8d0"
      },
      "execution_count": 4,
      "outputs": [
        {
          "output_type": "display_data",
          "data": {
            "text/html": [
              "<html>\n",
              "<head><meta charset=\"utf-8\" /></head>\n",
              "<body>\n",
              "    <div>            <script src=\"https://cdnjs.cloudflare.com/ajax/libs/mathjax/2.7.5/MathJax.js?config=TeX-AMS-MML_SVG\"></script><script type=\"text/javascript\">if (window.MathJax) {MathJax.Hub.Config({SVG: {font: \"STIX-Web\"}});}</script>                <script type=\"text/javascript\">window.PlotlyConfig = {MathJaxConfig: 'local'};</script>\n",
              "        <script src=\"https://cdn.plot.ly/plotly-2.8.3.min.js\"></script>                <div id=\"05e94be9-84d9-4ded-bcfa-f593e4e3f4b4\" class=\"plotly-graph-div\" style=\"height:525px; width:100%;\"></div>            <script type=\"text/javascript\">                                    window.PLOTLYENV=window.PLOTLYENV || {};                                    if (document.getElementById(\"05e94be9-84d9-4ded-bcfa-f593e4e3f4b4\")) {                    Plotly.newPlot(                        \"05e94be9-84d9-4ded-bcfa-f593e4e3f4b4\",                        [{\"hovertemplate\":\"Feature 1=%{x}<br>Target=%{marker.color}<extra></extra>\",\"legendgroup\":\"\",\"marker\":{\"color\":[0,0,0,0,0,0,0,1,0,0,0,0,0,0,0,0,1,1,1,1,1,1,1,1,1,1,1,1,0,0,0,1,0,0,0,0,0,0,0,0,0,0,0,0,0,0,0,0,1,0,0,0,0,0,0,0,0,0,0,0,0,0,0,1,0,0,0,0,0,0,0,0,0,0,0,1,0,0,0,0,0,0,0,0,0,1,0,0,0,0,0,0,0,0,0,0,0,1,0,0,0,0,0,1,0,0,0,0,0,0,0,0,0,0,0,0,0,0,0,0,0,0,0,0,0,0,0,0,0,0,0,0,0,0,0,0,0,1,0,0,0,0,0,0,0,0,1,0,0,0,0,0,0,0,0,0,0,0,0,1,1,0,0,0,0,0,0,0,1,0,0,0,0,0,0,0,0,0,0,0,0,0,1,0,0,0,0,0,0,0,0,0,0,0,0,0,0,0,0,0,0,0,1,0,1,0,1,0,1,0,1,1,0,0,0,1,0,0,0,1,0,1,1,1,0,0,1,1,0,1,1,0,1,1,0,1,0,0,0,1,1,0,1,1,0,1,0,1,0,1,0,0,1,1,0,1,0,0,1,1,0,1,1,0,1,1,0,0,1,0,0,1,1,1,1,1,0,1,1,1,1,0,1,1,0,1,0,1,0,1,1,1,1,0,0,0,1,1,0,1,1,1,1,1,0,0,0,1,1,0,0,1,0,1,0,1,1,0,1,0,1,1,0,1,1,0,0,0,1,1,0,1,0,0,1,0,1,0,0,1,1,0,0,1,1,0,1,1,0,0,1,0,1,0,1,1,1,0,1,0,1,1,1,0,1,1,1,1,0,1,1,1,0,1,0,1,0,0,1,1,0,1,1,1,1,1,1,0,1,1,1,1,1,1,0,1,1,1,0,1],\"coloraxis\":\"coloraxis\",\"symbol\":\"circle\"},\"mode\":\"markers\",\"name\":\"\",\"orientation\":\"v\",\"showlegend\":false,\"x\":[-1.7817974284598157,-0.25358735848624026,-1.1132055228463764,-1.017692393473028,-1.7817974284598157,-1.017692393473028,-1.017692393473028,-0.5401267466062857,-1.2087186522197249,-0.25358735848624026,-1.1132055228463764,-1.1132055228463764,-1.6862842990864673,-0.5401267466062857,-1.8773105578331641,-0.826666134726331,0.8925701939939412,0.7015439352472443,0.7970570646205928,0.9880833233672897,0.7015439352472443,0.8925701939939412,0.9880833233672897,0.7015439352472443,0.7970570646205928,0.8925701939939412,1.083596452740638,0.8925701939939412,-0.826666134726331,-0.6356398759796341,-0.6356398759796341,-1.017692393473028,-1.5907711697131186,-0.9221792640996795,-1.017692393473028,-0.25358735848624026,-0.4446136172329372,-0.7311530053529826,-1.1132055228463764,-1.017692393473028,-1.017692393473028,-0.4446136172329372,-0.25358735848624026,-0.7311530053529826,-0.9221792640996795,-1.3997449109664217,-1.2087186522197249,-1.017692393473028,-0.7311530053529826,-0.6356398759796341,-1.3042317815930733,-1.8773105578331641,-0.826666134726331,-0.25358735848624026,-1.017692393473028,-1.3042317815930733,-1.3997449109664217,-0.9221792640996795,-1.4952580403397702,-0.5401267466062857,-1.017692393473028,-1.2087186522197249,-1.3997449109664217,-0.5401267466062857,2.0387277464741227,-1.3042317815930733,-1.3042317815930733,-1.3997449109664217,-1.4952580403397702,-0.6356398759796341,-1.2087186522197249,-1.3042317815930733,-1.6862842990864673,-0.4446136172329372,-0.5401267466062857,-0.34910048785958875,-1.8773105578331641,-1.4952580403397702,-0.9221792640996795,-1.1132055228463764,-0.7311530053529826,0.12846515900715358,-1.6862842990864673,-0.25358735848624026,-0.7311530053529826,-0.6356398759796341,-1.3042317815930733,-0.9221792640996795,-1.1132055228463764,-0.25358735848624026,-1.4952580403397702,-0.7311530053529826,-1.1132055228463764,-0.826666134726331,-0.826666134726331,-0.25358735848624026,-0.25358735848624026,-0.9221792640996795,-0.25358735848624026,-0.9221792640996795,-1.017692393473028,-0.9221792640996795,-0.5401267466062857,-0.4446136172329372,-1.7817974284598157,-1.5907711697131186,-1.1132055228463764,-1.017692393473028,-1.1132055228463764,0.03295202963380511,0.12846515900715358,-0.06256109973954335,0.03295202963380511,-0.06256109973954335,0.415004547127199,0.22397828838050202,-0.25358735848624026,-0.15807422911289182,0.22397828838050202,0.3194914177538505,-0.15807422911289182,-0.06256109973954335,0.22397828838050202,-0.25358735848624026,0.3194914177538505,0.12846515900715358,0.415004547127199,-1.1132055228463764,-0.7311530053529826,-1.1132055228463764,-0.6356398759796341,-0.4446136172329372,-0.7311530053529826,-1.5907711697131186,-0.9221792640996795,-1.3997449109664217,-1.6862842990864673,-0.7311530053529826,-0.9221792640996795,-1.7817974284598157,-1.7817974284598157,-1.8773105578331641,-0.25358735848624026,-0.7311530053529826,-0.34910048785958875,-1.3042317815930733,-1.017692393473028,0.3194914177538505,-0.826666134726331,-1.6862842990864673,-1.1132055228463764,0.3194914177538505,-0.6356398759796341,-0.15807422911289182,0.22397828838050202,-0.6356398759796341,0.7970570646205928,-0.826666134726331,-1.1132055228463764,-0.5401267466062857,-0.5401267466062857,-1.2087186522197249,-0.06256109973954335,-0.25358735848624026,-0.4446136172329372,-1.8773105578331641,-1.4952580403397702,-0.25358735848624026,-0.826666134726331,-0.826666134726331,-1.5907711697131186,-0.34910048785958875,-1.1132055228463764,-0.34910048785958875,-0.34910048785958875,-1.3997449109664217,-0.25358735848624026,-1.2087186522197249,-1.3042317815930733,-0.6356398759796341,-1.1132055228463764,-0.6356398759796341,-0.5401267466062857,-0.4446136172329372,-0.4446136172329372,-0.6356398759796341,-1.6862842990864673,-0.4446136172329372,-0.25358735848624026,-0.9221792640996795,-1.3042317815930733,-1.7817974284598157,-0.826666134726331,-1.7817974284598157,-0.9221792640996795,-0.34910048785958875,-0.7311530053529826,-1.6862842990864673,-1.1132055228463764,-0.25358735848624026,-0.25358735848624026,1.083596452740638,0.12846515900715358,0.3194914177538505,1.9432146171007743,0.8925701939939412,1.656675228980729,1.3701358408606836,0.22397828838050202,0.7970570646205928,0.9880833233672897,1.3701358408606836,2.0387277464741227,-0.25358735848624026,0.8925701939939412,2.134240875847471,1.083596452740638,0.22397828838050202,0.7970570646205928,2.0387277464741227,0.3194914177538505,-0.25358735848624026,-0.06256109973954335,2.134240875847471,-0.25358735848624026,-0.06256109973954335,-0.15807422911289182,1.7521883583540774,0.22397828838050202,0.415004547127199,-0.25358735848624026,0.12846515900715358,0.22397828838050202,1.083596452740638,0.03295202963380511,0.7970570646205928,0.22397828838050202,-0.06256109973954335,0.7970570646205928,1.465648970234032,0.415004547127199,0.03295202963380511,1.1791095821139865,1.7521883583540774,0.3194914177538505,1.2746227114873352,-0.25358735848624026,1.8477014877274258,0.3194914177538505,-0.25358735848624026,0.6060308058738959,-0.06256109973954335,0.9880833233672897,-0.06256109973954335,1.1791095821139865,1.3701358408606836,0.3194914177538505,0.22397828838050202,1.9432146171007743,0.7015439352472443,-0.25358735848624026,-0.15807422911289182,1.656675228980729,-0.25358735848624026,0.9880833233672897,0.415004547127199,0.22397828838050202,-0.06256109973954335,0.8925701939939412,0.22397828838050202,0.5105176765005474,2.0387277464741227,2.134240875847471,0.12846515900715358,1.8477014877274258,1.8477014877274258,0.03295202963380511,1.083596452740638,1.3701358408606836,1.1791095821139865,2.0387277464741227,-0.25358735848624026,-0.06256109973954335,1.3701358408606836,0.9880833233672897,-0.06256109973954335,-0.06256109973954335,0.9880833233672897,0.3194914177538505,-0.06256109973954335,0.12846515900715358,1.083596452740638,1.656675228980729,-0.06256109973954335,-0.25358735848624026,-0.15807422911289182,0.415004547127199,0.5105176765005474,0.7015439352472443,0.7970570646205928,1.9432146171007743,0.9880833233672897,-0.06256109973954335,-0.06256109973954335,0.22397828838050202,0.415004547127199,1.2746227114873352,0.8925701939939412,-0.15807422911289182,0.03295202963380511,0.415004547127199,0.12846515900715358,0.03295202963380511,1.083596452740638,0.12846515900715358,0.12846515900715358,1.5611620996073805,-0.25358735848624026,0.7015439352472443,-0.15807422911289182,1.3701358408606836,1.465648970234032,0.3194914177538505,0.9880833233672897,0.9880833233672897,0.3194914177538505,0.3194914177538505,0.415004547127199,-0.15807422911289182,0.8925701939939412,0.03295202963380511,0.9880833233672897,0.415004547127199,0.22397828838050202,1.8477014877274258,-0.15807422911289182,1.9432146171007743,-0.25358735848624026,0.03295202963380511,0.12846515900715358,1.465648970234032,-0.25358735848624026,0.03295202963380511,0.8925701939939412,0.8925701939939412,0.3194914177538505,1.465648970234032,1.5611620996073805,0.12846515900715358,0.03295202963380511,0.03295202963380511,-0.06256109973954335,0.415004547127199,-0.06256109973954335,-0.15807422911289182,2.134240875847471,1.5611620996073805,0.3194914177538505,0.22397828838050202,0.415004547127199,0.5105176765005474,1.465648970234032,0.8925701939939412,0.415004547127199,0.415004547127199,2.0387277464741227,1.9432146171007743,0.7970570646205928,0.03295202963380511,1.5611620996073805,2.134240875847471,2.134240875847471,0.12846515900715358,2.0387277464741227,-0.06256109973954335,0.7970570646205928,0.7970570646205928,0.415004547127199,0.3194914177538505,1.9432146171007743,0.415004547127199,0.9880833233672897,0.6060308058738959,1.083596452740638,1.8477014877274258,1.7521883583540774,1.083596452740638,0.12846515900715358,0.8925701939939412,0.9880833233672897,0.9880833233672897,0.8925701939939412,0.7015439352472443,2.134240875847471,0.12846515900715358,0.7970570646205928,1.2746227114873352,1.1791095821139865,-0.15807422911289182,1.083596452740638],\"xaxis\":\"x\",\"y\":[0,0,0,0,0,0,0,1,0,0,0,0,0,0,0,0,1,1,1,1,1,1,1,1,1,1,1,1,0,0,0,1,0,0,0,0,0,0,0,0,0,0,0,0,0,0,0,0,1,0,0,0,0,0,0,0,0,0,0,0,0,0,0,1,0,0,0,0,0,0,0,0,0,0,0,1,0,0,0,0,0,0,0,0,0,1,0,0,0,0,0,0,0,0,0,0,0,1,0,0,0,0,0,1,0,0,0,0,0,0,0,0,0,0,0,0,0,0,0,0,0,0,0,0,0,0,0,0,0,0,0,0,0,0,0,0,0,1,0,0,0,0,0,0,0,0,1,0,0,0,0,0,0,0,0,0,0,0,0,1,1,0,0,0,0,0,0,0,1,0,0,0,0,0,0,0,0,0,0,0,0,0,1,0,0,0,0,0,0,0,0,0,0,0,0,0,0,0,0,0,0,0,1,0,1,0,1,0,1,0,1,1,0,0,0,1,0,0,0,1,0,1,1,1,0,0,1,1,0,1,1,0,1,1,0,1,0,0,0,1,1,0,1,1,0,1,0,1,0,1,0,0,1,1,0,1,0,0,1,1,0,1,1,0,1,1,0,0,1,0,0,1,1,1,1,1,0,1,1,1,1,0,1,1,0,1,0,1,0,1,1,1,1,0,0,0,1,1,0,1,1,1,1,1,0,0,0,1,1,0,0,1,0,1,0,1,1,0,1,0,1,1,0,1,1,0,0,0,1,1,0,1,0,0,1,0,1,0,0,1,1,0,0,1,1,0,1,1,0,0,1,0,1,0,1,1,1,0,1,0,1,1,1,0,1,1,1,1,0,1,1,1,0,1,0,1,0,0,1,1,0,1,1,1,1,1,1,0,1,1,1,1,1,1,0,1,1,1,0,1],\"yaxis\":\"y\",\"type\":\"scatter\"}],                        {\"template\":{\"data\":{\"bar\":[{\"error_x\":{\"color\":\"#2a3f5f\"},\"error_y\":{\"color\":\"#2a3f5f\"},\"marker\":{\"line\":{\"color\":\"#E5ECF6\",\"width\":0.5},\"pattern\":{\"fillmode\":\"overlay\",\"size\":10,\"solidity\":0.2}},\"type\":\"bar\"}],\"barpolar\":[{\"marker\":{\"line\":{\"color\":\"#E5ECF6\",\"width\":0.5},\"pattern\":{\"fillmode\":\"overlay\",\"size\":10,\"solidity\":0.2}},\"type\":\"barpolar\"}],\"carpet\":[{\"aaxis\":{\"endlinecolor\":\"#2a3f5f\",\"gridcolor\":\"white\",\"linecolor\":\"white\",\"minorgridcolor\":\"white\",\"startlinecolor\":\"#2a3f5f\"},\"baxis\":{\"endlinecolor\":\"#2a3f5f\",\"gridcolor\":\"white\",\"linecolor\":\"white\",\"minorgridcolor\":\"white\",\"startlinecolor\":\"#2a3f5f\"},\"type\":\"carpet\"}],\"choropleth\":[{\"colorbar\":{\"outlinewidth\":0,\"ticks\":\"\"},\"type\":\"choropleth\"}],\"contour\":[{\"colorbar\":{\"outlinewidth\":0,\"ticks\":\"\"},\"colorscale\":[[0.0,\"#0d0887\"],[0.1111111111111111,\"#46039f\"],[0.2222222222222222,\"#7201a8\"],[0.3333333333333333,\"#9c179e\"],[0.4444444444444444,\"#bd3786\"],[0.5555555555555556,\"#d8576b\"],[0.6666666666666666,\"#ed7953\"],[0.7777777777777778,\"#fb9f3a\"],[0.8888888888888888,\"#fdca26\"],[1.0,\"#f0f921\"]],\"type\":\"contour\"}],\"contourcarpet\":[{\"colorbar\":{\"outlinewidth\":0,\"ticks\":\"\"},\"type\":\"contourcarpet\"}],\"heatmap\":[{\"colorbar\":{\"outlinewidth\":0,\"ticks\":\"\"},\"colorscale\":[[0.0,\"#0d0887\"],[0.1111111111111111,\"#46039f\"],[0.2222222222222222,\"#7201a8\"],[0.3333333333333333,\"#9c179e\"],[0.4444444444444444,\"#bd3786\"],[0.5555555555555556,\"#d8576b\"],[0.6666666666666666,\"#ed7953\"],[0.7777777777777778,\"#fb9f3a\"],[0.8888888888888888,\"#fdca26\"],[1.0,\"#f0f921\"]],\"type\":\"heatmap\"}],\"heatmapgl\":[{\"colorbar\":{\"outlinewidth\":0,\"ticks\":\"\"},\"colorscale\":[[0.0,\"#0d0887\"],[0.1111111111111111,\"#46039f\"],[0.2222222222222222,\"#7201a8\"],[0.3333333333333333,\"#9c179e\"],[0.4444444444444444,\"#bd3786\"],[0.5555555555555556,\"#d8576b\"],[0.6666666666666666,\"#ed7953\"],[0.7777777777777778,\"#fb9f3a\"],[0.8888888888888888,\"#fdca26\"],[1.0,\"#f0f921\"]],\"type\":\"heatmapgl\"}],\"histogram\":[{\"marker\":{\"pattern\":{\"fillmode\":\"overlay\",\"size\":10,\"solidity\":0.2}},\"type\":\"histogram\"}],\"histogram2d\":[{\"colorbar\":{\"outlinewidth\":0,\"ticks\":\"\"},\"colorscale\":[[0.0,\"#0d0887\"],[0.1111111111111111,\"#46039f\"],[0.2222222222222222,\"#7201a8\"],[0.3333333333333333,\"#9c179e\"],[0.4444444444444444,\"#bd3786\"],[0.5555555555555556,\"#d8576b\"],[0.6666666666666666,\"#ed7953\"],[0.7777777777777778,\"#fb9f3a\"],[0.8888888888888888,\"#fdca26\"],[1.0,\"#f0f921\"]],\"type\":\"histogram2d\"}],\"histogram2dcontour\":[{\"colorbar\":{\"outlinewidth\":0,\"ticks\":\"\"},\"colorscale\":[[0.0,\"#0d0887\"],[0.1111111111111111,\"#46039f\"],[0.2222222222222222,\"#7201a8\"],[0.3333333333333333,\"#9c179e\"],[0.4444444444444444,\"#bd3786\"],[0.5555555555555556,\"#d8576b\"],[0.6666666666666666,\"#ed7953\"],[0.7777777777777778,\"#fb9f3a\"],[0.8888888888888888,\"#fdca26\"],[1.0,\"#f0f921\"]],\"type\":\"histogram2dcontour\"}],\"mesh3d\":[{\"colorbar\":{\"outlinewidth\":0,\"ticks\":\"\"},\"type\":\"mesh3d\"}],\"parcoords\":[{\"line\":{\"colorbar\":{\"outlinewidth\":0,\"ticks\":\"\"}},\"type\":\"parcoords\"}],\"pie\":[{\"automargin\":true,\"type\":\"pie\"}],\"scatter\":[{\"marker\":{\"colorbar\":{\"outlinewidth\":0,\"ticks\":\"\"}},\"type\":\"scatter\"}],\"scatter3d\":[{\"line\":{\"colorbar\":{\"outlinewidth\":0,\"ticks\":\"\"}},\"marker\":{\"colorbar\":{\"outlinewidth\":0,\"ticks\":\"\"}},\"type\":\"scatter3d\"}],\"scattercarpet\":[{\"marker\":{\"colorbar\":{\"outlinewidth\":0,\"ticks\":\"\"}},\"type\":\"scattercarpet\"}],\"scattergeo\":[{\"marker\":{\"colorbar\":{\"outlinewidth\":0,\"ticks\":\"\"}},\"type\":\"scattergeo\"}],\"scattergl\":[{\"marker\":{\"colorbar\":{\"outlinewidth\":0,\"ticks\":\"\"}},\"type\":\"scattergl\"}],\"scattermapbox\":[{\"marker\":{\"colorbar\":{\"outlinewidth\":0,\"ticks\":\"\"}},\"type\":\"scattermapbox\"}],\"scatterpolar\":[{\"marker\":{\"colorbar\":{\"outlinewidth\":0,\"ticks\":\"\"}},\"type\":\"scatterpolar\"}],\"scatterpolargl\":[{\"marker\":{\"colorbar\":{\"outlinewidth\":0,\"ticks\":\"\"}},\"type\":\"scatterpolargl\"}],\"scatterternary\":[{\"marker\":{\"colorbar\":{\"outlinewidth\":0,\"ticks\":\"\"}},\"type\":\"scatterternary\"}],\"surface\":[{\"colorbar\":{\"outlinewidth\":0,\"ticks\":\"\"},\"colorscale\":[[0.0,\"#0d0887\"],[0.1111111111111111,\"#46039f\"],[0.2222222222222222,\"#7201a8\"],[0.3333333333333333,\"#9c179e\"],[0.4444444444444444,\"#bd3786\"],[0.5555555555555556,\"#d8576b\"],[0.6666666666666666,\"#ed7953\"],[0.7777777777777778,\"#fb9f3a\"],[0.8888888888888888,\"#fdca26\"],[1.0,\"#f0f921\"]],\"type\":\"surface\"}],\"table\":[{\"cells\":{\"fill\":{\"color\":\"#EBF0F8\"},\"line\":{\"color\":\"white\"}},\"header\":{\"fill\":{\"color\":\"#C8D4E3\"},\"line\":{\"color\":\"white\"}},\"type\":\"table\"}]},\"layout\":{\"annotationdefaults\":{\"arrowcolor\":\"#2a3f5f\",\"arrowhead\":0,\"arrowwidth\":1},\"autotypenumbers\":\"strict\",\"coloraxis\":{\"colorbar\":{\"outlinewidth\":0,\"ticks\":\"\"}},\"colorscale\":{\"diverging\":[[0,\"#8e0152\"],[0.1,\"#c51b7d\"],[0.2,\"#de77ae\"],[0.3,\"#f1b6da\"],[0.4,\"#fde0ef\"],[0.5,\"#f7f7f7\"],[0.6,\"#e6f5d0\"],[0.7,\"#b8e186\"],[0.8,\"#7fbc41\"],[0.9,\"#4d9221\"],[1,\"#276419\"]],\"sequential\":[[0.0,\"#0d0887\"],[0.1111111111111111,\"#46039f\"],[0.2222222222222222,\"#7201a8\"],[0.3333333333333333,\"#9c179e\"],[0.4444444444444444,\"#bd3786\"],[0.5555555555555556,\"#d8576b\"],[0.6666666666666666,\"#ed7953\"],[0.7777777777777778,\"#fb9f3a\"],[0.8888888888888888,\"#fdca26\"],[1.0,\"#f0f921\"]],\"sequentialminus\":[[0.0,\"#0d0887\"],[0.1111111111111111,\"#46039f\"],[0.2222222222222222,\"#7201a8\"],[0.3333333333333333,\"#9c179e\"],[0.4444444444444444,\"#bd3786\"],[0.5555555555555556,\"#d8576b\"],[0.6666666666666666,\"#ed7953\"],[0.7777777777777778,\"#fb9f3a\"],[0.8888888888888888,\"#fdca26\"],[1.0,\"#f0f921\"]]},\"colorway\":[\"#636efa\",\"#EF553B\",\"#00cc96\",\"#ab63fa\",\"#FFA15A\",\"#19d3f3\",\"#FF6692\",\"#B6E880\",\"#FF97FF\",\"#FECB52\"],\"font\":{\"color\":\"#2a3f5f\"},\"geo\":{\"bgcolor\":\"white\",\"lakecolor\":\"white\",\"landcolor\":\"#E5ECF6\",\"showlakes\":true,\"showland\":true,\"subunitcolor\":\"white\"},\"hoverlabel\":{\"align\":\"left\"},\"hovermode\":\"closest\",\"mapbox\":{\"style\":\"light\"},\"paper_bgcolor\":\"white\",\"plot_bgcolor\":\"#E5ECF6\",\"polar\":{\"angularaxis\":{\"gridcolor\":\"white\",\"linecolor\":\"white\",\"ticks\":\"\"},\"bgcolor\":\"#E5ECF6\",\"radialaxis\":{\"gridcolor\":\"white\",\"linecolor\":\"white\",\"ticks\":\"\"}},\"scene\":{\"xaxis\":{\"backgroundcolor\":\"#E5ECF6\",\"gridcolor\":\"white\",\"gridwidth\":2,\"linecolor\":\"white\",\"showbackground\":true,\"ticks\":\"\",\"zerolinecolor\":\"white\"},\"yaxis\":{\"backgroundcolor\":\"#E5ECF6\",\"gridcolor\":\"white\",\"gridwidth\":2,\"linecolor\":\"white\",\"showbackground\":true,\"ticks\":\"\",\"zerolinecolor\":\"white\"},\"zaxis\":{\"backgroundcolor\":\"#E5ECF6\",\"gridcolor\":\"white\",\"gridwidth\":2,\"linecolor\":\"white\",\"showbackground\":true,\"ticks\":\"\",\"zerolinecolor\":\"white\"}},\"shapedefaults\":{\"line\":{\"color\":\"#2a3f5f\"}},\"ternary\":{\"aaxis\":{\"gridcolor\":\"white\",\"linecolor\":\"white\",\"ticks\":\"\"},\"baxis\":{\"gridcolor\":\"white\",\"linecolor\":\"white\",\"ticks\":\"\"},\"bgcolor\":\"#E5ECF6\",\"caxis\":{\"gridcolor\":\"white\",\"linecolor\":\"white\",\"ticks\":\"\"}},\"title\":{\"x\":0.05},\"xaxis\":{\"automargin\":true,\"gridcolor\":\"white\",\"linecolor\":\"white\",\"ticks\":\"\",\"title\":{\"standoff\":15},\"zerolinecolor\":\"white\",\"zerolinewidth\":2},\"yaxis\":{\"automargin\":true,\"gridcolor\":\"white\",\"linecolor\":\"white\",\"ticks\":\"\",\"title\":{\"standoff\":15},\"zerolinecolor\":\"white\",\"zerolinewidth\":2}}},\"xaxis\":{\"anchor\":\"y\",\"domain\":[0.0,1.0],\"title\":{\"text\":\"Feature 1\"}},\"yaxis\":{\"anchor\":\"x\",\"domain\":[0.0,1.0],\"title\":{\"text\":\"Target\"}},\"coloraxis\":{\"colorbar\":{\"title\":{\"text\":\"Target\"}},\"colorscale\":[[0.0,\"red\"],[1.0,\"blue\"]]},\"legend\":{\"tracegroupgap\":0},\"margin\":{\"t\":60}},                        {\"responsive\": true}                    ).then(function(){\n",
              "                            \n",
              "var gd = document.getElementById('05e94be9-84d9-4ded-bcfa-f593e4e3f4b4');\n",
              "var x = new MutationObserver(function (mutations, observer) {{\n",
              "        var display = window.getComputedStyle(gd).display;\n",
              "        if (!display || display === 'none') {{\n",
              "            console.log([gd, 'removed!']);\n",
              "            Plotly.purge(gd);\n",
              "            observer.disconnect();\n",
              "        }}\n",
              "}});\n",
              "\n",
              "// Listen for the removal of the full notebook cells\n",
              "var notebookContainer = gd.closest('#notebook-container');\n",
              "if (notebookContainer) {{\n",
              "    x.observe(notebookContainer, {childList: true});\n",
              "}}\n",
              "\n",
              "// Listen for the clearing of the current output cell\n",
              "var outputEl = gd.closest('.output');\n",
              "if (outputEl) {{\n",
              "    x.observe(outputEl, {childList: true});\n",
              "}}\n",
              "\n",
              "                        })                };                            </script>        </div>\n",
              "</body>\n",
              "</html>"
            ]
          },
          "metadata": {}
        }
      ]
    },
    {
      "cell_type": "markdown",
      "source": [
        "As you can see from the plot above, the data we have can only have two values 0 and 1, no other. If we can plot a line right in the middle of the graph then we'll be able to seperate the two classes easily.\n",
        "\n",
        "Let's do this using Linear Regression."
      ],
      "metadata": {
        "id": "j_wNMxuh1ZUO"
      }
    },
    {
      "cell_type": "code",
      "source": [
        "# Using Linear Regression to seperate the classes.\n",
        "from sklearn.linear_model import LinearRegression\n",
        "\n",
        "features = df[[\"Feature 1\", \"Feature 2\"]].values.reshape(df.shape[0], -1)\n",
        "target = df[\"Target\"].values.reshape(df.shape[0], -1)\n",
        "\n",
        "linreg = LinearRegression()\n",
        "linreg.fit(features, target)\n",
        "\n",
        "beta_0 = linreg.intercept_\n",
        "betas = linreg.coef_.ravel()"
      ],
      "metadata": {
        "id": "Rn2IdFFsmfOa"
      },
      "execution_count": 5,
      "outputs": []
    },
    {
      "cell_type": "code",
      "source": [
        "# Plotting the line.\n",
        "pred = betas[0] * df[\"Feature 1\"] + beta_0\n",
        "\n",
        "fig = px.scatter(data_frame = df, x = \"Feature 1\", y = \"Target\", color = \"Target\", color_continuous_scale = [\"red\", \"blue\"])\n",
        "fig.add_traces(px.line(data_frame = df, x = \"Feature 1\", y = pred, color_discrete_sequence = [\"orange\"]).data)\n",
        "fig.show()"
      ],
      "metadata": {
        "id": "i8RQ6qVSm7RI",
        "colab": {
          "base_uri": "https://localhost:8080/",
          "height": 542
        },
        "outputId": "b64386a6-18b7-424b-c96a-ee90e8faa7e4"
      },
      "execution_count": 6,
      "outputs": [
        {
          "output_type": "display_data",
          "data": {
            "text/html": [
              "<html>\n",
              "<head><meta charset=\"utf-8\" /></head>\n",
              "<body>\n",
              "    <div>            <script src=\"https://cdnjs.cloudflare.com/ajax/libs/mathjax/2.7.5/MathJax.js?config=TeX-AMS-MML_SVG\"></script><script type=\"text/javascript\">if (window.MathJax) {MathJax.Hub.Config({SVG: {font: \"STIX-Web\"}});}</script>                <script type=\"text/javascript\">window.PlotlyConfig = {MathJaxConfig: 'local'};</script>\n",
              "        <script src=\"https://cdn.plot.ly/plotly-2.8.3.min.js\"></script>                <div id=\"9af70daa-50e8-4113-9760-4aeae2f428cc\" class=\"plotly-graph-div\" style=\"height:525px; width:100%;\"></div>            <script type=\"text/javascript\">                                    window.PLOTLYENV=window.PLOTLYENV || {};                                    if (document.getElementById(\"9af70daa-50e8-4113-9760-4aeae2f428cc\")) {                    Plotly.newPlot(                        \"9af70daa-50e8-4113-9760-4aeae2f428cc\",                        [{\"hovertemplate\":\"Feature 1=%{x}<br>Target=%{marker.color}<extra></extra>\",\"legendgroup\":\"\",\"marker\":{\"color\":[0,0,0,0,0,0,0,1,0,0,0,0,0,0,0,0,1,1,1,1,1,1,1,1,1,1,1,1,0,0,0,1,0,0,0,0,0,0,0,0,0,0,0,0,0,0,0,0,1,0,0,0,0,0,0,0,0,0,0,0,0,0,0,1,0,0,0,0,0,0,0,0,0,0,0,1,0,0,0,0,0,0,0,0,0,1,0,0,0,0,0,0,0,0,0,0,0,1,0,0,0,0,0,1,0,0,0,0,0,0,0,0,0,0,0,0,0,0,0,0,0,0,0,0,0,0,0,0,0,0,0,0,0,0,0,0,0,1,0,0,0,0,0,0,0,0,1,0,0,0,0,0,0,0,0,0,0,0,0,1,1,0,0,0,0,0,0,0,1,0,0,0,0,0,0,0,0,0,0,0,0,0,1,0,0,0,0,0,0,0,0,0,0,0,0,0,0,0,0,0,0,0,1,0,1,0,1,0,1,0,1,1,0,0,0,1,0,0,0,1,0,1,1,1,0,0,1,1,0,1,1,0,1,1,0,1,0,0,0,1,1,0,1,1,0,1,0,1,0,1,0,0,1,1,0,1,0,0,1,1,0,1,1,0,1,1,0,0,1,0,0,1,1,1,1,1,0,1,1,1,1,0,1,1,0,1,0,1,0,1,1,1,1,0,0,0,1,1,0,1,1,1,1,1,0,0,0,1,1,0,0,1,0,1,0,1,1,0,1,0,1,1,0,1,1,0,0,0,1,1,0,1,0,0,1,0,1,0,0,1,1,0,0,1,1,0,1,1,0,0,1,0,1,0,1,1,1,0,1,0,1,1,1,0,1,1,1,1,0,1,1,1,0,1,0,1,0,0,1,1,0,1,1,1,1,1,1,0,1,1,1,1,1,1,0,1,1,1,0,1],\"coloraxis\":\"coloraxis\",\"symbol\":\"circle\"},\"mode\":\"markers\",\"name\":\"\",\"orientation\":\"v\",\"showlegend\":false,\"x\":[-1.7817974284598157,-0.25358735848624026,-1.1132055228463764,-1.017692393473028,-1.7817974284598157,-1.017692393473028,-1.017692393473028,-0.5401267466062857,-1.2087186522197249,-0.25358735848624026,-1.1132055228463764,-1.1132055228463764,-1.6862842990864673,-0.5401267466062857,-1.8773105578331641,-0.826666134726331,0.8925701939939412,0.7015439352472443,0.7970570646205928,0.9880833233672897,0.7015439352472443,0.8925701939939412,0.9880833233672897,0.7015439352472443,0.7970570646205928,0.8925701939939412,1.083596452740638,0.8925701939939412,-0.826666134726331,-0.6356398759796341,-0.6356398759796341,-1.017692393473028,-1.5907711697131186,-0.9221792640996795,-1.017692393473028,-0.25358735848624026,-0.4446136172329372,-0.7311530053529826,-1.1132055228463764,-1.017692393473028,-1.017692393473028,-0.4446136172329372,-0.25358735848624026,-0.7311530053529826,-0.9221792640996795,-1.3997449109664217,-1.2087186522197249,-1.017692393473028,-0.7311530053529826,-0.6356398759796341,-1.3042317815930733,-1.8773105578331641,-0.826666134726331,-0.25358735848624026,-1.017692393473028,-1.3042317815930733,-1.3997449109664217,-0.9221792640996795,-1.4952580403397702,-0.5401267466062857,-1.017692393473028,-1.2087186522197249,-1.3997449109664217,-0.5401267466062857,2.0387277464741227,-1.3042317815930733,-1.3042317815930733,-1.3997449109664217,-1.4952580403397702,-0.6356398759796341,-1.2087186522197249,-1.3042317815930733,-1.6862842990864673,-0.4446136172329372,-0.5401267466062857,-0.34910048785958875,-1.8773105578331641,-1.4952580403397702,-0.9221792640996795,-1.1132055228463764,-0.7311530053529826,0.12846515900715358,-1.6862842990864673,-0.25358735848624026,-0.7311530053529826,-0.6356398759796341,-1.3042317815930733,-0.9221792640996795,-1.1132055228463764,-0.25358735848624026,-1.4952580403397702,-0.7311530053529826,-1.1132055228463764,-0.826666134726331,-0.826666134726331,-0.25358735848624026,-0.25358735848624026,-0.9221792640996795,-0.25358735848624026,-0.9221792640996795,-1.017692393473028,-0.9221792640996795,-0.5401267466062857,-0.4446136172329372,-1.7817974284598157,-1.5907711697131186,-1.1132055228463764,-1.017692393473028,-1.1132055228463764,0.03295202963380511,0.12846515900715358,-0.06256109973954335,0.03295202963380511,-0.06256109973954335,0.415004547127199,0.22397828838050202,-0.25358735848624026,-0.15807422911289182,0.22397828838050202,0.3194914177538505,-0.15807422911289182,-0.06256109973954335,0.22397828838050202,-0.25358735848624026,0.3194914177538505,0.12846515900715358,0.415004547127199,-1.1132055228463764,-0.7311530053529826,-1.1132055228463764,-0.6356398759796341,-0.4446136172329372,-0.7311530053529826,-1.5907711697131186,-0.9221792640996795,-1.3997449109664217,-1.6862842990864673,-0.7311530053529826,-0.9221792640996795,-1.7817974284598157,-1.7817974284598157,-1.8773105578331641,-0.25358735848624026,-0.7311530053529826,-0.34910048785958875,-1.3042317815930733,-1.017692393473028,0.3194914177538505,-0.826666134726331,-1.6862842990864673,-1.1132055228463764,0.3194914177538505,-0.6356398759796341,-0.15807422911289182,0.22397828838050202,-0.6356398759796341,0.7970570646205928,-0.826666134726331,-1.1132055228463764,-0.5401267466062857,-0.5401267466062857,-1.2087186522197249,-0.06256109973954335,-0.25358735848624026,-0.4446136172329372,-1.8773105578331641,-1.4952580403397702,-0.25358735848624026,-0.826666134726331,-0.826666134726331,-1.5907711697131186,-0.34910048785958875,-1.1132055228463764,-0.34910048785958875,-0.34910048785958875,-1.3997449109664217,-0.25358735848624026,-1.2087186522197249,-1.3042317815930733,-0.6356398759796341,-1.1132055228463764,-0.6356398759796341,-0.5401267466062857,-0.4446136172329372,-0.4446136172329372,-0.6356398759796341,-1.6862842990864673,-0.4446136172329372,-0.25358735848624026,-0.9221792640996795,-1.3042317815930733,-1.7817974284598157,-0.826666134726331,-1.7817974284598157,-0.9221792640996795,-0.34910048785958875,-0.7311530053529826,-1.6862842990864673,-1.1132055228463764,-0.25358735848624026,-0.25358735848624026,1.083596452740638,0.12846515900715358,0.3194914177538505,1.9432146171007743,0.8925701939939412,1.656675228980729,1.3701358408606836,0.22397828838050202,0.7970570646205928,0.9880833233672897,1.3701358408606836,2.0387277464741227,-0.25358735848624026,0.8925701939939412,2.134240875847471,1.083596452740638,0.22397828838050202,0.7970570646205928,2.0387277464741227,0.3194914177538505,-0.25358735848624026,-0.06256109973954335,2.134240875847471,-0.25358735848624026,-0.06256109973954335,-0.15807422911289182,1.7521883583540774,0.22397828838050202,0.415004547127199,-0.25358735848624026,0.12846515900715358,0.22397828838050202,1.083596452740638,0.03295202963380511,0.7970570646205928,0.22397828838050202,-0.06256109973954335,0.7970570646205928,1.465648970234032,0.415004547127199,0.03295202963380511,1.1791095821139865,1.7521883583540774,0.3194914177538505,1.2746227114873352,-0.25358735848624026,1.8477014877274258,0.3194914177538505,-0.25358735848624026,0.6060308058738959,-0.06256109973954335,0.9880833233672897,-0.06256109973954335,1.1791095821139865,1.3701358408606836,0.3194914177538505,0.22397828838050202,1.9432146171007743,0.7015439352472443,-0.25358735848624026,-0.15807422911289182,1.656675228980729,-0.25358735848624026,0.9880833233672897,0.415004547127199,0.22397828838050202,-0.06256109973954335,0.8925701939939412,0.22397828838050202,0.5105176765005474,2.0387277464741227,2.134240875847471,0.12846515900715358,1.8477014877274258,1.8477014877274258,0.03295202963380511,1.083596452740638,1.3701358408606836,1.1791095821139865,2.0387277464741227,-0.25358735848624026,-0.06256109973954335,1.3701358408606836,0.9880833233672897,-0.06256109973954335,-0.06256109973954335,0.9880833233672897,0.3194914177538505,-0.06256109973954335,0.12846515900715358,1.083596452740638,1.656675228980729,-0.06256109973954335,-0.25358735848624026,-0.15807422911289182,0.415004547127199,0.5105176765005474,0.7015439352472443,0.7970570646205928,1.9432146171007743,0.9880833233672897,-0.06256109973954335,-0.06256109973954335,0.22397828838050202,0.415004547127199,1.2746227114873352,0.8925701939939412,-0.15807422911289182,0.03295202963380511,0.415004547127199,0.12846515900715358,0.03295202963380511,1.083596452740638,0.12846515900715358,0.12846515900715358,1.5611620996073805,-0.25358735848624026,0.7015439352472443,-0.15807422911289182,1.3701358408606836,1.465648970234032,0.3194914177538505,0.9880833233672897,0.9880833233672897,0.3194914177538505,0.3194914177538505,0.415004547127199,-0.15807422911289182,0.8925701939939412,0.03295202963380511,0.9880833233672897,0.415004547127199,0.22397828838050202,1.8477014877274258,-0.15807422911289182,1.9432146171007743,-0.25358735848624026,0.03295202963380511,0.12846515900715358,1.465648970234032,-0.25358735848624026,0.03295202963380511,0.8925701939939412,0.8925701939939412,0.3194914177538505,1.465648970234032,1.5611620996073805,0.12846515900715358,0.03295202963380511,0.03295202963380511,-0.06256109973954335,0.415004547127199,-0.06256109973954335,-0.15807422911289182,2.134240875847471,1.5611620996073805,0.3194914177538505,0.22397828838050202,0.415004547127199,0.5105176765005474,1.465648970234032,0.8925701939939412,0.415004547127199,0.415004547127199,2.0387277464741227,1.9432146171007743,0.7970570646205928,0.03295202963380511,1.5611620996073805,2.134240875847471,2.134240875847471,0.12846515900715358,2.0387277464741227,-0.06256109973954335,0.7970570646205928,0.7970570646205928,0.415004547127199,0.3194914177538505,1.9432146171007743,0.415004547127199,0.9880833233672897,0.6060308058738959,1.083596452740638,1.8477014877274258,1.7521883583540774,1.083596452740638,0.12846515900715358,0.8925701939939412,0.9880833233672897,0.9880833233672897,0.8925701939939412,0.7015439352472443,2.134240875847471,0.12846515900715358,0.7970570646205928,1.2746227114873352,1.1791095821139865,-0.15807422911289182,1.083596452740638],\"xaxis\":\"x\",\"y\":[0,0,0,0,0,0,0,1,0,0,0,0,0,0,0,0,1,1,1,1,1,1,1,1,1,1,1,1,0,0,0,1,0,0,0,0,0,0,0,0,0,0,0,0,0,0,0,0,1,0,0,0,0,0,0,0,0,0,0,0,0,0,0,1,0,0,0,0,0,0,0,0,0,0,0,1,0,0,0,0,0,0,0,0,0,1,0,0,0,0,0,0,0,0,0,0,0,1,0,0,0,0,0,1,0,0,0,0,0,0,0,0,0,0,0,0,0,0,0,0,0,0,0,0,0,0,0,0,0,0,0,0,0,0,0,0,0,1,0,0,0,0,0,0,0,0,1,0,0,0,0,0,0,0,0,0,0,0,0,1,1,0,0,0,0,0,0,0,1,0,0,0,0,0,0,0,0,0,0,0,0,0,1,0,0,0,0,0,0,0,0,0,0,0,0,0,0,0,0,0,0,0,1,0,1,0,1,0,1,0,1,1,0,0,0,1,0,0,0,1,0,1,1,1,0,0,1,1,0,1,1,0,1,1,0,1,0,0,0,1,1,0,1,1,0,1,0,1,0,1,0,0,1,1,0,1,0,0,1,1,0,1,1,0,1,1,0,0,1,0,0,1,1,1,1,1,0,1,1,1,1,0,1,1,0,1,0,1,0,1,1,1,1,0,0,0,1,1,0,1,1,1,1,1,0,0,0,1,1,0,0,1,0,1,0,1,1,0,1,0,1,1,0,1,1,0,0,0,1,1,0,1,0,0,1,0,1,0,0,1,1,0,0,1,1,0,1,1,0,0,1,0,1,0,1,1,1,0,1,0,1,1,1,0,1,1,1,1,0,1,1,1,0,1,0,1,0,0,1,1,0,1,1,1,1,1,1,0,1,1,1,1,1,1,0,1,1,1,0,1],\"yaxis\":\"y\",\"type\":\"scatter\"},{\"hovertemplate\":\"Feature 1=%{x}<br>y=%{y}<extra></extra>\",\"legendgroup\":\"\",\"line\":{\"color\":\"orange\",\"dash\":\"solid\"},\"marker\":{\"symbol\":\"circle\"},\"mode\":\"lines\",\"name\":\"\",\"orientation\":\"v\",\"showlegend\":false,\"x\":[-1.7817974284598157,-0.25358735848624026,-1.1132055228463764,-1.017692393473028,-1.7817974284598157,-1.017692393473028,-1.017692393473028,-0.5401267466062857,-1.2087186522197249,-0.25358735848624026,-1.1132055228463764,-1.1132055228463764,-1.6862842990864673,-0.5401267466062857,-1.8773105578331641,-0.826666134726331,0.8925701939939412,0.7015439352472443,0.7970570646205928,0.9880833233672897,0.7015439352472443,0.8925701939939412,0.9880833233672897,0.7015439352472443,0.7970570646205928,0.8925701939939412,1.083596452740638,0.8925701939939412,-0.826666134726331,-0.6356398759796341,-0.6356398759796341,-1.017692393473028,-1.5907711697131186,-0.9221792640996795,-1.017692393473028,-0.25358735848624026,-0.4446136172329372,-0.7311530053529826,-1.1132055228463764,-1.017692393473028,-1.017692393473028,-0.4446136172329372,-0.25358735848624026,-0.7311530053529826,-0.9221792640996795,-1.3997449109664217,-1.2087186522197249,-1.017692393473028,-0.7311530053529826,-0.6356398759796341,-1.3042317815930733,-1.8773105578331641,-0.826666134726331,-0.25358735848624026,-1.017692393473028,-1.3042317815930733,-1.3997449109664217,-0.9221792640996795,-1.4952580403397702,-0.5401267466062857,-1.017692393473028,-1.2087186522197249,-1.3997449109664217,-0.5401267466062857,2.0387277464741227,-1.3042317815930733,-1.3042317815930733,-1.3997449109664217,-1.4952580403397702,-0.6356398759796341,-1.2087186522197249,-1.3042317815930733,-1.6862842990864673,-0.4446136172329372,-0.5401267466062857,-0.34910048785958875,-1.8773105578331641,-1.4952580403397702,-0.9221792640996795,-1.1132055228463764,-0.7311530053529826,0.12846515900715358,-1.6862842990864673,-0.25358735848624026,-0.7311530053529826,-0.6356398759796341,-1.3042317815930733,-0.9221792640996795,-1.1132055228463764,-0.25358735848624026,-1.4952580403397702,-0.7311530053529826,-1.1132055228463764,-0.826666134726331,-0.826666134726331,-0.25358735848624026,-0.25358735848624026,-0.9221792640996795,-0.25358735848624026,-0.9221792640996795,-1.017692393473028,-0.9221792640996795,-0.5401267466062857,-0.4446136172329372,-1.7817974284598157,-1.5907711697131186,-1.1132055228463764,-1.017692393473028,-1.1132055228463764,0.03295202963380511,0.12846515900715358,-0.06256109973954335,0.03295202963380511,-0.06256109973954335,0.415004547127199,0.22397828838050202,-0.25358735848624026,-0.15807422911289182,0.22397828838050202,0.3194914177538505,-0.15807422911289182,-0.06256109973954335,0.22397828838050202,-0.25358735848624026,0.3194914177538505,0.12846515900715358,0.415004547127199,-1.1132055228463764,-0.7311530053529826,-1.1132055228463764,-0.6356398759796341,-0.4446136172329372,-0.7311530053529826,-1.5907711697131186,-0.9221792640996795,-1.3997449109664217,-1.6862842990864673,-0.7311530053529826,-0.9221792640996795,-1.7817974284598157,-1.7817974284598157,-1.8773105578331641,-0.25358735848624026,-0.7311530053529826,-0.34910048785958875,-1.3042317815930733,-1.017692393473028,0.3194914177538505,-0.826666134726331,-1.6862842990864673,-1.1132055228463764,0.3194914177538505,-0.6356398759796341,-0.15807422911289182,0.22397828838050202,-0.6356398759796341,0.7970570646205928,-0.826666134726331,-1.1132055228463764,-0.5401267466062857,-0.5401267466062857,-1.2087186522197249,-0.06256109973954335,-0.25358735848624026,-0.4446136172329372,-1.8773105578331641,-1.4952580403397702,-0.25358735848624026,-0.826666134726331,-0.826666134726331,-1.5907711697131186,-0.34910048785958875,-1.1132055228463764,-0.34910048785958875,-0.34910048785958875,-1.3997449109664217,-0.25358735848624026,-1.2087186522197249,-1.3042317815930733,-0.6356398759796341,-1.1132055228463764,-0.6356398759796341,-0.5401267466062857,-0.4446136172329372,-0.4446136172329372,-0.6356398759796341,-1.6862842990864673,-0.4446136172329372,-0.25358735848624026,-0.9221792640996795,-1.3042317815930733,-1.7817974284598157,-0.826666134726331,-1.7817974284598157,-0.9221792640996795,-0.34910048785958875,-0.7311530053529826,-1.6862842990864673,-1.1132055228463764,-0.25358735848624026,-0.25358735848624026,1.083596452740638,0.12846515900715358,0.3194914177538505,1.9432146171007743,0.8925701939939412,1.656675228980729,1.3701358408606836,0.22397828838050202,0.7970570646205928,0.9880833233672897,1.3701358408606836,2.0387277464741227,-0.25358735848624026,0.8925701939939412,2.134240875847471,1.083596452740638,0.22397828838050202,0.7970570646205928,2.0387277464741227,0.3194914177538505,-0.25358735848624026,-0.06256109973954335,2.134240875847471,-0.25358735848624026,-0.06256109973954335,-0.15807422911289182,1.7521883583540774,0.22397828838050202,0.415004547127199,-0.25358735848624026,0.12846515900715358,0.22397828838050202,1.083596452740638,0.03295202963380511,0.7970570646205928,0.22397828838050202,-0.06256109973954335,0.7970570646205928,1.465648970234032,0.415004547127199,0.03295202963380511,1.1791095821139865,1.7521883583540774,0.3194914177538505,1.2746227114873352,-0.25358735848624026,1.8477014877274258,0.3194914177538505,-0.25358735848624026,0.6060308058738959,-0.06256109973954335,0.9880833233672897,-0.06256109973954335,1.1791095821139865,1.3701358408606836,0.3194914177538505,0.22397828838050202,1.9432146171007743,0.7015439352472443,-0.25358735848624026,-0.15807422911289182,1.656675228980729,-0.25358735848624026,0.9880833233672897,0.415004547127199,0.22397828838050202,-0.06256109973954335,0.8925701939939412,0.22397828838050202,0.5105176765005474,2.0387277464741227,2.134240875847471,0.12846515900715358,1.8477014877274258,1.8477014877274258,0.03295202963380511,1.083596452740638,1.3701358408606836,1.1791095821139865,2.0387277464741227,-0.25358735848624026,-0.06256109973954335,1.3701358408606836,0.9880833233672897,-0.06256109973954335,-0.06256109973954335,0.9880833233672897,0.3194914177538505,-0.06256109973954335,0.12846515900715358,1.083596452740638,1.656675228980729,-0.06256109973954335,-0.25358735848624026,-0.15807422911289182,0.415004547127199,0.5105176765005474,0.7015439352472443,0.7970570646205928,1.9432146171007743,0.9880833233672897,-0.06256109973954335,-0.06256109973954335,0.22397828838050202,0.415004547127199,1.2746227114873352,0.8925701939939412,-0.15807422911289182,0.03295202963380511,0.415004547127199,0.12846515900715358,0.03295202963380511,1.083596452740638,0.12846515900715358,0.12846515900715358,1.5611620996073805,-0.25358735848624026,0.7015439352472443,-0.15807422911289182,1.3701358408606836,1.465648970234032,0.3194914177538505,0.9880833233672897,0.9880833233672897,0.3194914177538505,0.3194914177538505,0.415004547127199,-0.15807422911289182,0.8925701939939412,0.03295202963380511,0.9880833233672897,0.415004547127199,0.22397828838050202,1.8477014877274258,-0.15807422911289182,1.9432146171007743,-0.25358735848624026,0.03295202963380511,0.12846515900715358,1.465648970234032,-0.25358735848624026,0.03295202963380511,0.8925701939939412,0.8925701939939412,0.3194914177538505,1.465648970234032,1.5611620996073805,0.12846515900715358,0.03295202963380511,0.03295202963380511,-0.06256109973954335,0.415004547127199,-0.06256109973954335,-0.15807422911289182,2.134240875847471,1.5611620996073805,0.3194914177538505,0.22397828838050202,0.415004547127199,0.5105176765005474,1.465648970234032,0.8925701939939412,0.415004547127199,0.415004547127199,2.0387277464741227,1.9432146171007743,0.7970570646205928,0.03295202963380511,1.5611620996073805,2.134240875847471,2.134240875847471,0.12846515900715358,2.0387277464741227,-0.06256109973954335,0.7970570646205928,0.7970570646205928,0.415004547127199,0.3194914177538505,1.9432146171007743,0.415004547127199,0.9880833233672897,0.6060308058738959,1.083596452740638,1.8477014877274258,1.7521883583540774,1.083596452740638,0.12846515900715358,0.8925701939939412,0.9880833233672897,0.9880833233672897,0.8925701939939412,0.7015439352472443,2.134240875847471,0.12846515900715358,0.7970570646205928,1.2746227114873352,1.1791095821139865,-0.15807422911289182,1.083596452740638],\"xaxis\":\"x\",\"y\":[-0.13798621571665676,0.2869818599449089,0.04793731738527823,0.07449782211412609,-0.13798621571665676,0.07449782211412609,0.07449782211412609,0.20730034575836534,0.021376812656430377,0.2869818599449089,0.04793731738527823,0.04793731738527823,-0.1114257109878089,0.20730034575836534,-0.1645467204455046,0.1276188315718218,0.6057079166910831,0.5525869072333874,0.5791474119622353,0.632268421419931,0.5525869072333874,0.6057079166910831,0.632268421419931,0.5525869072333874,0.5791474119622353,0.6057079166910831,0.6588289261487787,0.6057079166910831,0.1276188315718218,0.18073984102951748,0.18073984102951748,0.07449782211412609,-0.08486520625896099,0.10105832684297394,0.07449782211412609,0.2869818599449089,0.2338608504872132,0.15417933630066966,0.04793731738527823,0.07449782211412609,0.07449782211412609,0.2338608504872132,0.2869818599449089,0.15417933630066966,0.10105832684297394,-0.031744196801265334,0.021376812656430377,0.07449782211412609,0.15417933630066966,0.18073984102951748,-0.005183692072417478,-0.1645467204455046,0.1276188315718218,0.2869818599449089,0.07449782211412609,-0.005183692072417478,-0.031744196801265334,0.10105832684297394,-0.058304701530113134,0.20730034575836534,0.07449782211412609,0.021376812656430377,-0.031744196801265334,0.20730034575836534,0.9244339734372573,-0.005183692072417478,-0.005183692072417478,-0.031744196801265334,-0.058304701530113134,0.18073984102951748,0.021376812656430377,-0.005183692072417478,-0.1114257109878089,0.2338608504872132,0.20730034575836534,0.260421355216061,-0.1645467204455046,-0.058304701530113134,0.10105832684297394,0.04793731738527823,0.15417933630066966,0.3932238788603003,-0.1114257109878089,0.2869818599449089,0.15417933630066966,0.18073984102951748,-0.005183692072417478,0.10105832684297394,0.04793731738527823,0.2869818599449089,-0.058304701530113134,0.15417933630066966,0.04793731738527823,0.1276188315718218,0.1276188315718218,0.2869818599449089,0.2869818599449089,0.10105832684297394,0.2869818599449089,0.10105832684297394,0.07449782211412609,0.10105832684297394,0.20730034575836534,0.2338608504872132,-0.13798621571665676,-0.08486520625896099,0.04793731738527823,0.07449782211412609,0.04793731738527823,0.36666337413145245,0.3932238788603003,0.3401028694026046,0.36666337413145245,0.3401028694026046,0.47290539304684387,0.41978438358914816,0.2869818599449089,0.31354236467375673,0.41978438358914816,0.446344888317996,0.31354236467375673,0.3401028694026046,0.41978438358914816,0.2869818599449089,0.446344888317996,0.3932238788603003,0.47290539304684387,0.04793731738527823,0.15417933630066966,0.04793731738527823,0.18073984102951748,0.2338608504872132,0.15417933630066966,-0.08486520625896099,0.10105832684297394,-0.031744196801265334,-0.1114257109878089,0.15417933630066966,0.10105832684297394,-0.13798621571665676,-0.13798621571665676,-0.1645467204455046,0.2869818599449089,0.15417933630066966,0.260421355216061,-0.005183692072417478,0.07449782211412609,0.446344888317996,0.1276188315718218,-0.1114257109878089,0.04793731738527823,0.446344888317996,0.18073984102951748,0.31354236467375673,0.41978438358914816,0.18073984102951748,0.5791474119622353,0.1276188315718218,0.04793731738527823,0.20730034575836534,0.20730034575836534,0.021376812656430377,0.3401028694026046,0.2869818599449089,0.2338608504872132,-0.1645467204455046,-0.058304701530113134,0.2869818599449089,0.1276188315718218,0.1276188315718218,-0.08486520625896099,0.260421355216061,0.04793731738527823,0.260421355216061,0.260421355216061,-0.031744196801265334,0.2869818599449089,0.021376812656430377,-0.005183692072417478,0.18073984102951748,0.04793731738527823,0.18073984102951748,0.20730034575836534,0.2338608504872132,0.2338608504872132,0.18073984102951748,-0.1114257109878089,0.2338608504872132,0.2869818599449089,0.10105832684297394,-0.005183692072417478,-0.13798621571665676,0.1276188315718218,-0.13798621571665676,0.10105832684297394,0.260421355216061,0.15417933630066966,-0.1114257109878089,0.04793731738527823,0.2869818599449089,0.2869818599449089,0.6588289261487787,0.3932238788603003,0.446344888317996,0.8978734687084096,0.6057079166910831,0.8181919545218659,0.7385104403353224,0.41978438358914816,0.5791474119622353,0.632268421419931,0.7385104403353224,0.9244339734372573,0.2869818599449089,0.6057079166910831,0.9509944781661053,0.6588289261487787,0.41978438358914816,0.5791474119622353,0.9244339734372573,0.446344888317996,0.2869818599449089,0.3401028694026046,0.9509944781661053,0.2869818599449089,0.3401028694026046,0.31354236467375673,0.8447524592507138,0.41978438358914816,0.47290539304684387,0.2869818599449089,0.3932238788603003,0.41978438358914816,0.6588289261487787,0.36666337413145245,0.5791474119622353,0.41978438358914816,0.3401028694026046,0.5791474119622353,0.7650709450641703,0.47290539304684387,0.36666337413145245,0.6853894308776267,0.8447524592507138,0.446344888317996,0.7119499356064746,0.2869818599449089,0.8713129639795616,0.446344888317996,0.2869818599449089,0.5260264025045396,0.3401028694026046,0.632268421419931,0.3401028694026046,0.6853894308776267,0.7385104403353224,0.446344888317996,0.41978438358914816,0.8978734687084096,0.5525869072333874,0.2869818599449089,0.31354236467375673,0.8181919545218659,0.2869818599449089,0.632268421419931,0.47290539304684387,0.41978438358914816,0.3401028694026046,0.6057079166910831,0.41978438358914816,0.4994658977756917,0.9244339734372573,0.9509944781661053,0.3932238788603003,0.8713129639795616,0.8713129639795616,0.36666337413145245,0.6588289261487787,0.7385104403353224,0.6853894308776267,0.9244339734372573,0.2869818599449089,0.3401028694026046,0.7385104403353224,0.632268421419931,0.3401028694026046,0.3401028694026046,0.632268421419931,0.446344888317996,0.3401028694026046,0.3932238788603003,0.6588289261487787,0.8181919545218659,0.3401028694026046,0.2869818599449089,0.31354236467375673,0.47290539304684387,0.4994658977756917,0.5525869072333874,0.5791474119622353,0.8978734687084096,0.632268421419931,0.3401028694026046,0.3401028694026046,0.41978438358914816,0.47290539304684387,0.7119499356064746,0.6057079166910831,0.31354236467375673,0.36666337413145245,0.47290539304684387,0.3932238788603003,0.36666337413145245,0.6588289261487787,0.3932238788603003,0.3932238788603003,0.7916314497930181,0.2869818599449089,0.5525869072333874,0.31354236467375673,0.7385104403353224,0.7650709450641703,0.446344888317996,0.632268421419931,0.632268421419931,0.446344888317996,0.446344888317996,0.47290539304684387,0.31354236467375673,0.6057079166910831,0.36666337413145245,0.632268421419931,0.47290539304684387,0.41978438358914816,0.8713129639795616,0.31354236467375673,0.8978734687084096,0.2869818599449089,0.36666337413145245,0.3932238788603003,0.7650709450641703,0.2869818599449089,0.36666337413145245,0.6057079166910831,0.6057079166910831,0.446344888317996,0.7650709450641703,0.7916314497930181,0.3932238788603003,0.36666337413145245,0.36666337413145245,0.3401028694026046,0.47290539304684387,0.3401028694026046,0.31354236467375673,0.9509944781661053,0.7916314497930181,0.446344888317996,0.41978438358914816,0.47290539304684387,0.4994658977756917,0.7650709450641703,0.6057079166910831,0.47290539304684387,0.47290539304684387,0.9244339734372573,0.8978734687084096,0.5791474119622353,0.36666337413145245,0.7916314497930181,0.9509944781661053,0.9509944781661053,0.3932238788603003,0.9244339734372573,0.3401028694026046,0.5791474119622353,0.5791474119622353,0.47290539304684387,0.446344888317996,0.8978734687084096,0.47290539304684387,0.632268421419931,0.5260264025045396,0.6588289261487787,0.8713129639795616,0.8447524592507138,0.6588289261487787,0.3932238788603003,0.6057079166910831,0.632268421419931,0.632268421419931,0.6057079166910831,0.5525869072333874,0.9509944781661053,0.3932238788603003,0.5791474119622353,0.7119499356064746,0.6853894308776267,0.31354236467375673,0.6588289261487787],\"yaxis\":\"y\",\"type\":\"scatter\"}],                        {\"template\":{\"data\":{\"bar\":[{\"error_x\":{\"color\":\"#2a3f5f\"},\"error_y\":{\"color\":\"#2a3f5f\"},\"marker\":{\"line\":{\"color\":\"#E5ECF6\",\"width\":0.5},\"pattern\":{\"fillmode\":\"overlay\",\"size\":10,\"solidity\":0.2}},\"type\":\"bar\"}],\"barpolar\":[{\"marker\":{\"line\":{\"color\":\"#E5ECF6\",\"width\":0.5},\"pattern\":{\"fillmode\":\"overlay\",\"size\":10,\"solidity\":0.2}},\"type\":\"barpolar\"}],\"carpet\":[{\"aaxis\":{\"endlinecolor\":\"#2a3f5f\",\"gridcolor\":\"white\",\"linecolor\":\"white\",\"minorgridcolor\":\"white\",\"startlinecolor\":\"#2a3f5f\"},\"baxis\":{\"endlinecolor\":\"#2a3f5f\",\"gridcolor\":\"white\",\"linecolor\":\"white\",\"minorgridcolor\":\"white\",\"startlinecolor\":\"#2a3f5f\"},\"type\":\"carpet\"}],\"choropleth\":[{\"colorbar\":{\"outlinewidth\":0,\"ticks\":\"\"},\"type\":\"choropleth\"}],\"contour\":[{\"colorbar\":{\"outlinewidth\":0,\"ticks\":\"\"},\"colorscale\":[[0.0,\"#0d0887\"],[0.1111111111111111,\"#46039f\"],[0.2222222222222222,\"#7201a8\"],[0.3333333333333333,\"#9c179e\"],[0.4444444444444444,\"#bd3786\"],[0.5555555555555556,\"#d8576b\"],[0.6666666666666666,\"#ed7953\"],[0.7777777777777778,\"#fb9f3a\"],[0.8888888888888888,\"#fdca26\"],[1.0,\"#f0f921\"]],\"type\":\"contour\"}],\"contourcarpet\":[{\"colorbar\":{\"outlinewidth\":0,\"ticks\":\"\"},\"type\":\"contourcarpet\"}],\"heatmap\":[{\"colorbar\":{\"outlinewidth\":0,\"ticks\":\"\"},\"colorscale\":[[0.0,\"#0d0887\"],[0.1111111111111111,\"#46039f\"],[0.2222222222222222,\"#7201a8\"],[0.3333333333333333,\"#9c179e\"],[0.4444444444444444,\"#bd3786\"],[0.5555555555555556,\"#d8576b\"],[0.6666666666666666,\"#ed7953\"],[0.7777777777777778,\"#fb9f3a\"],[0.8888888888888888,\"#fdca26\"],[1.0,\"#f0f921\"]],\"type\":\"heatmap\"}],\"heatmapgl\":[{\"colorbar\":{\"outlinewidth\":0,\"ticks\":\"\"},\"colorscale\":[[0.0,\"#0d0887\"],[0.1111111111111111,\"#46039f\"],[0.2222222222222222,\"#7201a8\"],[0.3333333333333333,\"#9c179e\"],[0.4444444444444444,\"#bd3786\"],[0.5555555555555556,\"#d8576b\"],[0.6666666666666666,\"#ed7953\"],[0.7777777777777778,\"#fb9f3a\"],[0.8888888888888888,\"#fdca26\"],[1.0,\"#f0f921\"]],\"type\":\"heatmapgl\"}],\"histogram\":[{\"marker\":{\"pattern\":{\"fillmode\":\"overlay\",\"size\":10,\"solidity\":0.2}},\"type\":\"histogram\"}],\"histogram2d\":[{\"colorbar\":{\"outlinewidth\":0,\"ticks\":\"\"},\"colorscale\":[[0.0,\"#0d0887\"],[0.1111111111111111,\"#46039f\"],[0.2222222222222222,\"#7201a8\"],[0.3333333333333333,\"#9c179e\"],[0.4444444444444444,\"#bd3786\"],[0.5555555555555556,\"#d8576b\"],[0.6666666666666666,\"#ed7953\"],[0.7777777777777778,\"#fb9f3a\"],[0.8888888888888888,\"#fdca26\"],[1.0,\"#f0f921\"]],\"type\":\"histogram2d\"}],\"histogram2dcontour\":[{\"colorbar\":{\"outlinewidth\":0,\"ticks\":\"\"},\"colorscale\":[[0.0,\"#0d0887\"],[0.1111111111111111,\"#46039f\"],[0.2222222222222222,\"#7201a8\"],[0.3333333333333333,\"#9c179e\"],[0.4444444444444444,\"#bd3786\"],[0.5555555555555556,\"#d8576b\"],[0.6666666666666666,\"#ed7953\"],[0.7777777777777778,\"#fb9f3a\"],[0.8888888888888888,\"#fdca26\"],[1.0,\"#f0f921\"]],\"type\":\"histogram2dcontour\"}],\"mesh3d\":[{\"colorbar\":{\"outlinewidth\":0,\"ticks\":\"\"},\"type\":\"mesh3d\"}],\"parcoords\":[{\"line\":{\"colorbar\":{\"outlinewidth\":0,\"ticks\":\"\"}},\"type\":\"parcoords\"}],\"pie\":[{\"automargin\":true,\"type\":\"pie\"}],\"scatter\":[{\"marker\":{\"colorbar\":{\"outlinewidth\":0,\"ticks\":\"\"}},\"type\":\"scatter\"}],\"scatter3d\":[{\"line\":{\"colorbar\":{\"outlinewidth\":0,\"ticks\":\"\"}},\"marker\":{\"colorbar\":{\"outlinewidth\":0,\"ticks\":\"\"}},\"type\":\"scatter3d\"}],\"scattercarpet\":[{\"marker\":{\"colorbar\":{\"outlinewidth\":0,\"ticks\":\"\"}},\"type\":\"scattercarpet\"}],\"scattergeo\":[{\"marker\":{\"colorbar\":{\"outlinewidth\":0,\"ticks\":\"\"}},\"type\":\"scattergeo\"}],\"scattergl\":[{\"marker\":{\"colorbar\":{\"outlinewidth\":0,\"ticks\":\"\"}},\"type\":\"scattergl\"}],\"scattermapbox\":[{\"marker\":{\"colorbar\":{\"outlinewidth\":0,\"ticks\":\"\"}},\"type\":\"scattermapbox\"}],\"scatterpolar\":[{\"marker\":{\"colorbar\":{\"outlinewidth\":0,\"ticks\":\"\"}},\"type\":\"scatterpolar\"}],\"scatterpolargl\":[{\"marker\":{\"colorbar\":{\"outlinewidth\":0,\"ticks\":\"\"}},\"type\":\"scatterpolargl\"}],\"scatterternary\":[{\"marker\":{\"colorbar\":{\"outlinewidth\":0,\"ticks\":\"\"}},\"type\":\"scatterternary\"}],\"surface\":[{\"colorbar\":{\"outlinewidth\":0,\"ticks\":\"\"},\"colorscale\":[[0.0,\"#0d0887\"],[0.1111111111111111,\"#46039f\"],[0.2222222222222222,\"#7201a8\"],[0.3333333333333333,\"#9c179e\"],[0.4444444444444444,\"#bd3786\"],[0.5555555555555556,\"#d8576b\"],[0.6666666666666666,\"#ed7953\"],[0.7777777777777778,\"#fb9f3a\"],[0.8888888888888888,\"#fdca26\"],[1.0,\"#f0f921\"]],\"type\":\"surface\"}],\"table\":[{\"cells\":{\"fill\":{\"color\":\"#EBF0F8\"},\"line\":{\"color\":\"white\"}},\"header\":{\"fill\":{\"color\":\"#C8D4E3\"},\"line\":{\"color\":\"white\"}},\"type\":\"table\"}]},\"layout\":{\"annotationdefaults\":{\"arrowcolor\":\"#2a3f5f\",\"arrowhead\":0,\"arrowwidth\":1},\"autotypenumbers\":\"strict\",\"coloraxis\":{\"colorbar\":{\"outlinewidth\":0,\"ticks\":\"\"}},\"colorscale\":{\"diverging\":[[0,\"#8e0152\"],[0.1,\"#c51b7d\"],[0.2,\"#de77ae\"],[0.3,\"#f1b6da\"],[0.4,\"#fde0ef\"],[0.5,\"#f7f7f7\"],[0.6,\"#e6f5d0\"],[0.7,\"#b8e186\"],[0.8,\"#7fbc41\"],[0.9,\"#4d9221\"],[1,\"#276419\"]],\"sequential\":[[0.0,\"#0d0887\"],[0.1111111111111111,\"#46039f\"],[0.2222222222222222,\"#7201a8\"],[0.3333333333333333,\"#9c179e\"],[0.4444444444444444,\"#bd3786\"],[0.5555555555555556,\"#d8576b\"],[0.6666666666666666,\"#ed7953\"],[0.7777777777777778,\"#fb9f3a\"],[0.8888888888888888,\"#fdca26\"],[1.0,\"#f0f921\"]],\"sequentialminus\":[[0.0,\"#0d0887\"],[0.1111111111111111,\"#46039f\"],[0.2222222222222222,\"#7201a8\"],[0.3333333333333333,\"#9c179e\"],[0.4444444444444444,\"#bd3786\"],[0.5555555555555556,\"#d8576b\"],[0.6666666666666666,\"#ed7953\"],[0.7777777777777778,\"#fb9f3a\"],[0.8888888888888888,\"#fdca26\"],[1.0,\"#f0f921\"]]},\"colorway\":[\"#636efa\",\"#EF553B\",\"#00cc96\",\"#ab63fa\",\"#FFA15A\",\"#19d3f3\",\"#FF6692\",\"#B6E880\",\"#FF97FF\",\"#FECB52\"],\"font\":{\"color\":\"#2a3f5f\"},\"geo\":{\"bgcolor\":\"white\",\"lakecolor\":\"white\",\"landcolor\":\"#E5ECF6\",\"showlakes\":true,\"showland\":true,\"subunitcolor\":\"white\"},\"hoverlabel\":{\"align\":\"left\"},\"hovermode\":\"closest\",\"mapbox\":{\"style\":\"light\"},\"paper_bgcolor\":\"white\",\"plot_bgcolor\":\"#E5ECF6\",\"polar\":{\"angularaxis\":{\"gridcolor\":\"white\",\"linecolor\":\"white\",\"ticks\":\"\"},\"bgcolor\":\"#E5ECF6\",\"radialaxis\":{\"gridcolor\":\"white\",\"linecolor\":\"white\",\"ticks\":\"\"}},\"scene\":{\"xaxis\":{\"backgroundcolor\":\"#E5ECF6\",\"gridcolor\":\"white\",\"gridwidth\":2,\"linecolor\":\"white\",\"showbackground\":true,\"ticks\":\"\",\"zerolinecolor\":\"white\"},\"yaxis\":{\"backgroundcolor\":\"#E5ECF6\",\"gridcolor\":\"white\",\"gridwidth\":2,\"linecolor\":\"white\",\"showbackground\":true,\"ticks\":\"\",\"zerolinecolor\":\"white\"},\"zaxis\":{\"backgroundcolor\":\"#E5ECF6\",\"gridcolor\":\"white\",\"gridwidth\":2,\"linecolor\":\"white\",\"showbackground\":true,\"ticks\":\"\",\"zerolinecolor\":\"white\"}},\"shapedefaults\":{\"line\":{\"color\":\"#2a3f5f\"}},\"ternary\":{\"aaxis\":{\"gridcolor\":\"white\",\"linecolor\":\"white\",\"ticks\":\"\"},\"baxis\":{\"gridcolor\":\"white\",\"linecolor\":\"white\",\"ticks\":\"\"},\"bgcolor\":\"#E5ECF6\",\"caxis\":{\"gridcolor\":\"white\",\"linecolor\":\"white\",\"ticks\":\"\"}},\"title\":{\"x\":0.05},\"xaxis\":{\"automargin\":true,\"gridcolor\":\"white\",\"linecolor\":\"white\",\"ticks\":\"\",\"title\":{\"standoff\":15},\"zerolinecolor\":\"white\",\"zerolinewidth\":2},\"yaxis\":{\"automargin\":true,\"gridcolor\":\"white\",\"linecolor\":\"white\",\"ticks\":\"\",\"title\":{\"standoff\":15},\"zerolinecolor\":\"white\",\"zerolinewidth\":2}}},\"xaxis\":{\"anchor\":\"y\",\"domain\":[0.0,1.0],\"title\":{\"text\":\"Feature 1\"}},\"yaxis\":{\"anchor\":\"x\",\"domain\":[0.0,1.0],\"title\":{\"text\":\"Target\"}},\"coloraxis\":{\"colorbar\":{\"title\":{\"text\":\"Target\"}},\"colorscale\":[[0.0,\"red\"],[1.0,\"blue\"]]},\"legend\":{\"tracegroupgap\":0},\"margin\":{\"t\":60}},                        {\"responsive\": true}                    ).then(function(){\n",
              "                            \n",
              "var gd = document.getElementById('9af70daa-50e8-4113-9760-4aeae2f428cc');\n",
              "var x = new MutationObserver(function (mutations, observer) {{\n",
              "        var display = window.getComputedStyle(gd).display;\n",
              "        if (!display || display === 'none') {{\n",
              "            console.log([gd, 'removed!']);\n",
              "            Plotly.purge(gd);\n",
              "            observer.disconnect();\n",
              "        }}\n",
              "}});\n",
              "\n",
              "// Listen for the removal of the full notebook cells\n",
              "var notebookContainer = gd.closest('#notebook-container');\n",
              "if (notebookContainer) {{\n",
              "    x.observe(notebookContainer, {childList: true});\n",
              "}}\n",
              "\n",
              "// Listen for the clearing of the current output cell\n",
              "var outputEl = gd.closest('.output');\n",
              "if (outputEl) {{\n",
              "    x.observe(outputEl, {childList: true});\n",
              "}}\n",
              "\n",
              "                        })                };                            </script>        </div>\n",
              "</body>\n",
              "</html>"
            ]
          },
          "metadata": {}
        }
      ]
    },
    {
      "cell_type": "markdown",
      "source": [
        "As you can see, the predicted values from the line above...can range from -$∞$ all the way to +$∞$. Which is not what we want. We want the predictions to be limited from 0 to 1 only. That way we'll be able to have the probability of something belonging to class 1 (in our case it'll be the probability of that person buying insurance). If the prediction is 0.5 then there would be a 50% chance of that person buying insurance. If the prediction is 0.9, then there would be a 90% chance of that person buying insurance.\n",
        "\n",
        "Lucky for us, there already exists a function which does the exact same thing. This function is called the **Sigmoid Function**.\n",
        "\n",
        "---"
      ],
      "metadata": {
        "id": "ioxgNXu712sE"
      }
    },
    {
      "cell_type": "markdown",
      "source": [
        "#**Sigmoid Function**\n",
        "\n",
        "The sigmoid function looks something like this,\n",
        "\n",
        "$$h(x) = \\frac{1}{1 + e ^ {-x}}$$\n",
        "\n",
        "It takes in any series and gives out that series in the terms of probabilities, which restricts it from 0 to 1. Let's take an example of this."
      ],
      "metadata": {
        "id": "Hclo_PS93AgS"
      }
    },
    {
      "cell_type": "code",
      "source": [
        "# Creating the sigmoid function.\n",
        "def sigmoid(series):\n",
        "  return 1 / (1 + np.exp(-series))"
      ],
      "metadata": {
        "id": "Y8M4Grgg778h"
      },
      "execution_count": 7,
      "outputs": []
    },
    {
      "cell_type": "code",
      "source": [
        "# Using the sigmoid function over a series.\n",
        "np.random.seed(42)\n",
        "series = np.random.normal(0, 10, 100)\n",
        "\n",
        "fig1 = px.scatter(x = series, y = np.linspace(series.min(), series.max(), 100), title = \"Original Series\")\n",
        "fig1.show()\n",
        "\n",
        "fig2 = px.scatter(x = series, y = sigmoid(series), title = \"Sigmoidal Series\")\n",
        "fig2.show()"
      ],
      "metadata": {
        "id": "beYm0Iaw8L1T",
        "colab": {
          "base_uri": "https://localhost:8080/",
          "height": 1000
        },
        "outputId": "70405e42-4d08-417d-c345-20f0aeed92f1"
      },
      "execution_count": 8,
      "outputs": [
        {
          "output_type": "display_data",
          "data": {
            "text/html": [
              "<html>\n",
              "<head><meta charset=\"utf-8\" /></head>\n",
              "<body>\n",
              "    <div>            <script src=\"https://cdnjs.cloudflare.com/ajax/libs/mathjax/2.7.5/MathJax.js?config=TeX-AMS-MML_SVG\"></script><script type=\"text/javascript\">if (window.MathJax) {MathJax.Hub.Config({SVG: {font: \"STIX-Web\"}});}</script>                <script type=\"text/javascript\">window.PlotlyConfig = {MathJaxConfig: 'local'};</script>\n",
              "        <script src=\"https://cdn.plot.ly/plotly-2.8.3.min.js\"></script>                <div id=\"9c16ce9b-11b2-4e27-bcaa-d8f1fe2f0ad1\" class=\"plotly-graph-div\" style=\"height:525px; width:100%;\"></div>            <script type=\"text/javascript\">                                    window.PLOTLYENV=window.PLOTLYENV || {};                                    if (document.getElementById(\"9c16ce9b-11b2-4e27-bcaa-d8f1fe2f0ad1\")) {                    Plotly.newPlot(                        \"9c16ce9b-11b2-4e27-bcaa-d8f1fe2f0ad1\",                        [{\"hovertemplate\":\"x=%{x}<br>y=%{y}<extra></extra>\",\"legendgroup\":\"\",\"marker\":{\"color\":\"#636efa\",\"symbol\":\"circle\"},\"mode\":\"markers\",\"name\":\"\",\"orientation\":\"v\",\"showlegend\":false,\"x\":[4.967141530112327,-1.3826430117118464,6.476885381006925,15.230298564080254,-2.3415337472333597,-2.3413695694918055,15.792128155073915,7.674347291529088,-4.694743859349521,5.425600435859646,-4.634176928124623,-4.657297535702568,2.419622715660341,-19.13280244657798,-17.249178325130327,-5.622875292409727,-10.128311203344238,3.142473325952739,-9.08024075521211,-14.123037013352915,14.65648768921554,-2.2577630048653567,0.6752820468792384,-14.247481862134567,-5.443827245251827,1.1092258970986608,-11.509935774223027,3.7569801834567196,-6.006386899188049,-2.916937497932768,-6.017066122293969,18.522781845089376,-0.13497224737933922,-10.577109289559004,8.22544912103189,-12.208436499710222,2.088635950047554,-19.596701238797756,-13.281860488984305,1.9686123586912352,7.384665799954105,1.713682811899705,-1.1564828238824052,-3.011036955892888,-14.785219903674275,-7.198442083947087,-4.606387709597875,10.571222262189156,3.436182895684614,-17.63040155362734,3.24083969394795,-3.8508228041631654,-6.769220003059587,6.116762888408679,10.30999522495951,9.312801191161986,-8.392175232226386,-3.092123758512146,3.3126343140356393,9.755451271223592,-4.791742378452899,-1.8565897666381712,-11.063349740060282,-11.962066240806708,8.12525822394198,13.562400285708229,-0.7201012158033384,10.03532897892024,3.6163602504763412,-6.451197546051243,3.6139560550841394,15.380365664659692,-0.35826039109951535,15.646436558140062,-26.197451040897445,8.219025043752238,0.8704706823817121,-2.990073504658674,0.917607765355023,-19.875689146008927,-2.1967188783751195,3.5711257151174642,14.778940447415161,-5.182702182736474,-8.084936028931876,-5.017570435845365,9.154021177020741,3.2875110965968446,-5.297602037670388,5.132674331133561,0.9707754934804038,9.686449905328892,-7.020530938773524,-3.2766214659776822,-3.921081531321576,-14.635149481321186,2.9612027706457607,2.6105527217988933,0.051134566424608896,-2.345871333751469],\"xaxis\":\"x\",\"y\":[-26.197451040897445,-25.745731516796567,-25.29401199269569,-24.842292468594813,-24.390572944493936,-23.93885342039306,-23.487133896292182,-23.035414372191305,-22.583694848090428,-22.13197532398955,-21.680255799888677,-21.228536275787796,-20.776816751686923,-20.325097227586042,-19.87337770348517,-19.42165817938429,-18.969938655283414,-18.518219131182537,-18.06649960708166,-17.614780082980783,-17.163060558879906,-16.71134103477903,-16.25962151067815,-15.807901986577274,-15.356182462476397,-14.90446293837552,-14.452743414274643,-14.001023890173768,-13.54930436607289,-13.097584841972013,-12.645865317871136,-12.194145793770259,-11.742426269669382,-11.290706745568505,-10.838987221467628,-10.38726769736675,-9.935548173265875,-9.483828649164998,-9.032109125064121,-8.580389600963244,-8.128670076862367,-7.67695055276149,-7.2252310286606125,-6.773511504559735,-6.321791980458858,-5.870072456357981,-5.418352932257104,-4.966633408156227,-4.51491388405535,-4.063194359954473,-3.6114748358535955,-3.1597553117527184,-2.7080357876518413,-2.256316263550964,-1.8045967394500906,-1.3528772153492135,-0.9011576912483363,-0.4494381671474592,0.0022813569534179123,0.45400088105429504,0.9057204051551722,1.3574399292560493,1.8091594533569264,2.2608789774578035,2.7125985015586807,3.1643180256595578,3.616037549760435,4.067757073861312,4.519476597962189,4.971196122063066,5.422915646163943,5.8746351702648205,6.326354694365694,6.778074218466575,7.229793742567448,7.681513266668329,8.133232790769203,8.584952314870083,9.036671838970957,9.488391363071838,9.940110887172711,10.391830411273592,10.843549935374465,11.295269459475346,11.74698898357622,12.1987085076771,12.650428031777974,13.102147555878847,13.553867079979728,14.005586604080602,14.457306128181482,14.909025652282356,15.360745176383237,15.81246470048411,16.26418422458499,16.715903748685864,17.167623272786745,17.61934279688762,18.0710623209885,18.522781845089376],\"yaxis\":\"y\",\"type\":\"scatter\"}],                        {\"template\":{\"data\":{\"bar\":[{\"error_x\":{\"color\":\"#2a3f5f\"},\"error_y\":{\"color\":\"#2a3f5f\"},\"marker\":{\"line\":{\"color\":\"#E5ECF6\",\"width\":0.5},\"pattern\":{\"fillmode\":\"overlay\",\"size\":10,\"solidity\":0.2}},\"type\":\"bar\"}],\"barpolar\":[{\"marker\":{\"line\":{\"color\":\"#E5ECF6\",\"width\":0.5},\"pattern\":{\"fillmode\":\"overlay\",\"size\":10,\"solidity\":0.2}},\"type\":\"barpolar\"}],\"carpet\":[{\"aaxis\":{\"endlinecolor\":\"#2a3f5f\",\"gridcolor\":\"white\",\"linecolor\":\"white\",\"minorgridcolor\":\"white\",\"startlinecolor\":\"#2a3f5f\"},\"baxis\":{\"endlinecolor\":\"#2a3f5f\",\"gridcolor\":\"white\",\"linecolor\":\"white\",\"minorgridcolor\":\"white\",\"startlinecolor\":\"#2a3f5f\"},\"type\":\"carpet\"}],\"choropleth\":[{\"colorbar\":{\"outlinewidth\":0,\"ticks\":\"\"},\"type\":\"choropleth\"}],\"contour\":[{\"colorbar\":{\"outlinewidth\":0,\"ticks\":\"\"},\"colorscale\":[[0.0,\"#0d0887\"],[0.1111111111111111,\"#46039f\"],[0.2222222222222222,\"#7201a8\"],[0.3333333333333333,\"#9c179e\"],[0.4444444444444444,\"#bd3786\"],[0.5555555555555556,\"#d8576b\"],[0.6666666666666666,\"#ed7953\"],[0.7777777777777778,\"#fb9f3a\"],[0.8888888888888888,\"#fdca26\"],[1.0,\"#f0f921\"]],\"type\":\"contour\"}],\"contourcarpet\":[{\"colorbar\":{\"outlinewidth\":0,\"ticks\":\"\"},\"type\":\"contourcarpet\"}],\"heatmap\":[{\"colorbar\":{\"outlinewidth\":0,\"ticks\":\"\"},\"colorscale\":[[0.0,\"#0d0887\"],[0.1111111111111111,\"#46039f\"],[0.2222222222222222,\"#7201a8\"],[0.3333333333333333,\"#9c179e\"],[0.4444444444444444,\"#bd3786\"],[0.5555555555555556,\"#d8576b\"],[0.6666666666666666,\"#ed7953\"],[0.7777777777777778,\"#fb9f3a\"],[0.8888888888888888,\"#fdca26\"],[1.0,\"#f0f921\"]],\"type\":\"heatmap\"}],\"heatmapgl\":[{\"colorbar\":{\"outlinewidth\":0,\"ticks\":\"\"},\"colorscale\":[[0.0,\"#0d0887\"],[0.1111111111111111,\"#46039f\"],[0.2222222222222222,\"#7201a8\"],[0.3333333333333333,\"#9c179e\"],[0.4444444444444444,\"#bd3786\"],[0.5555555555555556,\"#d8576b\"],[0.6666666666666666,\"#ed7953\"],[0.7777777777777778,\"#fb9f3a\"],[0.8888888888888888,\"#fdca26\"],[1.0,\"#f0f921\"]],\"type\":\"heatmapgl\"}],\"histogram\":[{\"marker\":{\"pattern\":{\"fillmode\":\"overlay\",\"size\":10,\"solidity\":0.2}},\"type\":\"histogram\"}],\"histogram2d\":[{\"colorbar\":{\"outlinewidth\":0,\"ticks\":\"\"},\"colorscale\":[[0.0,\"#0d0887\"],[0.1111111111111111,\"#46039f\"],[0.2222222222222222,\"#7201a8\"],[0.3333333333333333,\"#9c179e\"],[0.4444444444444444,\"#bd3786\"],[0.5555555555555556,\"#d8576b\"],[0.6666666666666666,\"#ed7953\"],[0.7777777777777778,\"#fb9f3a\"],[0.8888888888888888,\"#fdca26\"],[1.0,\"#f0f921\"]],\"type\":\"histogram2d\"}],\"histogram2dcontour\":[{\"colorbar\":{\"outlinewidth\":0,\"ticks\":\"\"},\"colorscale\":[[0.0,\"#0d0887\"],[0.1111111111111111,\"#46039f\"],[0.2222222222222222,\"#7201a8\"],[0.3333333333333333,\"#9c179e\"],[0.4444444444444444,\"#bd3786\"],[0.5555555555555556,\"#d8576b\"],[0.6666666666666666,\"#ed7953\"],[0.7777777777777778,\"#fb9f3a\"],[0.8888888888888888,\"#fdca26\"],[1.0,\"#f0f921\"]],\"type\":\"histogram2dcontour\"}],\"mesh3d\":[{\"colorbar\":{\"outlinewidth\":0,\"ticks\":\"\"},\"type\":\"mesh3d\"}],\"parcoords\":[{\"line\":{\"colorbar\":{\"outlinewidth\":0,\"ticks\":\"\"}},\"type\":\"parcoords\"}],\"pie\":[{\"automargin\":true,\"type\":\"pie\"}],\"scatter\":[{\"marker\":{\"colorbar\":{\"outlinewidth\":0,\"ticks\":\"\"}},\"type\":\"scatter\"}],\"scatter3d\":[{\"line\":{\"colorbar\":{\"outlinewidth\":0,\"ticks\":\"\"}},\"marker\":{\"colorbar\":{\"outlinewidth\":0,\"ticks\":\"\"}},\"type\":\"scatter3d\"}],\"scattercarpet\":[{\"marker\":{\"colorbar\":{\"outlinewidth\":0,\"ticks\":\"\"}},\"type\":\"scattercarpet\"}],\"scattergeo\":[{\"marker\":{\"colorbar\":{\"outlinewidth\":0,\"ticks\":\"\"}},\"type\":\"scattergeo\"}],\"scattergl\":[{\"marker\":{\"colorbar\":{\"outlinewidth\":0,\"ticks\":\"\"}},\"type\":\"scattergl\"}],\"scattermapbox\":[{\"marker\":{\"colorbar\":{\"outlinewidth\":0,\"ticks\":\"\"}},\"type\":\"scattermapbox\"}],\"scatterpolar\":[{\"marker\":{\"colorbar\":{\"outlinewidth\":0,\"ticks\":\"\"}},\"type\":\"scatterpolar\"}],\"scatterpolargl\":[{\"marker\":{\"colorbar\":{\"outlinewidth\":0,\"ticks\":\"\"}},\"type\":\"scatterpolargl\"}],\"scatterternary\":[{\"marker\":{\"colorbar\":{\"outlinewidth\":0,\"ticks\":\"\"}},\"type\":\"scatterternary\"}],\"surface\":[{\"colorbar\":{\"outlinewidth\":0,\"ticks\":\"\"},\"colorscale\":[[0.0,\"#0d0887\"],[0.1111111111111111,\"#46039f\"],[0.2222222222222222,\"#7201a8\"],[0.3333333333333333,\"#9c179e\"],[0.4444444444444444,\"#bd3786\"],[0.5555555555555556,\"#d8576b\"],[0.6666666666666666,\"#ed7953\"],[0.7777777777777778,\"#fb9f3a\"],[0.8888888888888888,\"#fdca26\"],[1.0,\"#f0f921\"]],\"type\":\"surface\"}],\"table\":[{\"cells\":{\"fill\":{\"color\":\"#EBF0F8\"},\"line\":{\"color\":\"white\"}},\"header\":{\"fill\":{\"color\":\"#C8D4E3\"},\"line\":{\"color\":\"white\"}},\"type\":\"table\"}]},\"layout\":{\"annotationdefaults\":{\"arrowcolor\":\"#2a3f5f\",\"arrowhead\":0,\"arrowwidth\":1},\"autotypenumbers\":\"strict\",\"coloraxis\":{\"colorbar\":{\"outlinewidth\":0,\"ticks\":\"\"}},\"colorscale\":{\"diverging\":[[0,\"#8e0152\"],[0.1,\"#c51b7d\"],[0.2,\"#de77ae\"],[0.3,\"#f1b6da\"],[0.4,\"#fde0ef\"],[0.5,\"#f7f7f7\"],[0.6,\"#e6f5d0\"],[0.7,\"#b8e186\"],[0.8,\"#7fbc41\"],[0.9,\"#4d9221\"],[1,\"#276419\"]],\"sequential\":[[0.0,\"#0d0887\"],[0.1111111111111111,\"#46039f\"],[0.2222222222222222,\"#7201a8\"],[0.3333333333333333,\"#9c179e\"],[0.4444444444444444,\"#bd3786\"],[0.5555555555555556,\"#d8576b\"],[0.6666666666666666,\"#ed7953\"],[0.7777777777777778,\"#fb9f3a\"],[0.8888888888888888,\"#fdca26\"],[1.0,\"#f0f921\"]],\"sequentialminus\":[[0.0,\"#0d0887\"],[0.1111111111111111,\"#46039f\"],[0.2222222222222222,\"#7201a8\"],[0.3333333333333333,\"#9c179e\"],[0.4444444444444444,\"#bd3786\"],[0.5555555555555556,\"#d8576b\"],[0.6666666666666666,\"#ed7953\"],[0.7777777777777778,\"#fb9f3a\"],[0.8888888888888888,\"#fdca26\"],[1.0,\"#f0f921\"]]},\"colorway\":[\"#636efa\",\"#EF553B\",\"#00cc96\",\"#ab63fa\",\"#FFA15A\",\"#19d3f3\",\"#FF6692\",\"#B6E880\",\"#FF97FF\",\"#FECB52\"],\"font\":{\"color\":\"#2a3f5f\"},\"geo\":{\"bgcolor\":\"white\",\"lakecolor\":\"white\",\"landcolor\":\"#E5ECF6\",\"showlakes\":true,\"showland\":true,\"subunitcolor\":\"white\"},\"hoverlabel\":{\"align\":\"left\"},\"hovermode\":\"closest\",\"mapbox\":{\"style\":\"light\"},\"paper_bgcolor\":\"white\",\"plot_bgcolor\":\"#E5ECF6\",\"polar\":{\"angularaxis\":{\"gridcolor\":\"white\",\"linecolor\":\"white\",\"ticks\":\"\"},\"bgcolor\":\"#E5ECF6\",\"radialaxis\":{\"gridcolor\":\"white\",\"linecolor\":\"white\",\"ticks\":\"\"}},\"scene\":{\"xaxis\":{\"backgroundcolor\":\"#E5ECF6\",\"gridcolor\":\"white\",\"gridwidth\":2,\"linecolor\":\"white\",\"showbackground\":true,\"ticks\":\"\",\"zerolinecolor\":\"white\"},\"yaxis\":{\"backgroundcolor\":\"#E5ECF6\",\"gridcolor\":\"white\",\"gridwidth\":2,\"linecolor\":\"white\",\"showbackground\":true,\"ticks\":\"\",\"zerolinecolor\":\"white\"},\"zaxis\":{\"backgroundcolor\":\"#E5ECF6\",\"gridcolor\":\"white\",\"gridwidth\":2,\"linecolor\":\"white\",\"showbackground\":true,\"ticks\":\"\",\"zerolinecolor\":\"white\"}},\"shapedefaults\":{\"line\":{\"color\":\"#2a3f5f\"}},\"ternary\":{\"aaxis\":{\"gridcolor\":\"white\",\"linecolor\":\"white\",\"ticks\":\"\"},\"baxis\":{\"gridcolor\":\"white\",\"linecolor\":\"white\",\"ticks\":\"\"},\"bgcolor\":\"#E5ECF6\",\"caxis\":{\"gridcolor\":\"white\",\"linecolor\":\"white\",\"ticks\":\"\"}},\"title\":{\"x\":0.05},\"xaxis\":{\"automargin\":true,\"gridcolor\":\"white\",\"linecolor\":\"white\",\"ticks\":\"\",\"title\":{\"standoff\":15},\"zerolinecolor\":\"white\",\"zerolinewidth\":2},\"yaxis\":{\"automargin\":true,\"gridcolor\":\"white\",\"linecolor\":\"white\",\"ticks\":\"\",\"title\":{\"standoff\":15},\"zerolinecolor\":\"white\",\"zerolinewidth\":2}}},\"xaxis\":{\"anchor\":\"y\",\"domain\":[0.0,1.0],\"title\":{\"text\":\"x\"}},\"yaxis\":{\"anchor\":\"x\",\"domain\":[0.0,1.0],\"title\":{\"text\":\"y\"}},\"legend\":{\"tracegroupgap\":0},\"title\":{\"text\":\"Original Series\"}},                        {\"responsive\": true}                    ).then(function(){\n",
              "                            \n",
              "var gd = document.getElementById('9c16ce9b-11b2-4e27-bcaa-d8f1fe2f0ad1');\n",
              "var x = new MutationObserver(function (mutations, observer) {{\n",
              "        var display = window.getComputedStyle(gd).display;\n",
              "        if (!display || display === 'none') {{\n",
              "            console.log([gd, 'removed!']);\n",
              "            Plotly.purge(gd);\n",
              "            observer.disconnect();\n",
              "        }}\n",
              "}});\n",
              "\n",
              "// Listen for the removal of the full notebook cells\n",
              "var notebookContainer = gd.closest('#notebook-container');\n",
              "if (notebookContainer) {{\n",
              "    x.observe(notebookContainer, {childList: true});\n",
              "}}\n",
              "\n",
              "// Listen for the clearing of the current output cell\n",
              "var outputEl = gd.closest('.output');\n",
              "if (outputEl) {{\n",
              "    x.observe(outputEl, {childList: true});\n",
              "}}\n",
              "\n",
              "                        })                };                            </script>        </div>\n",
              "</body>\n",
              "</html>"
            ]
          },
          "metadata": {}
        },
        {
          "output_type": "display_data",
          "data": {
            "text/html": [
              "<html>\n",
              "<head><meta charset=\"utf-8\" /></head>\n",
              "<body>\n",
              "    <div>            <script src=\"https://cdnjs.cloudflare.com/ajax/libs/mathjax/2.7.5/MathJax.js?config=TeX-AMS-MML_SVG\"></script><script type=\"text/javascript\">if (window.MathJax) {MathJax.Hub.Config({SVG: {font: \"STIX-Web\"}});}</script>                <script type=\"text/javascript\">window.PlotlyConfig = {MathJaxConfig: 'local'};</script>\n",
              "        <script src=\"https://cdn.plot.ly/plotly-2.8.3.min.js\"></script>                <div id=\"b13c235c-d1ab-4be9-81cb-13b065619c86\" class=\"plotly-graph-div\" style=\"height:525px; width:100%;\"></div>            <script type=\"text/javascript\">                                    window.PLOTLYENV=window.PLOTLYENV || {};                                    if (document.getElementById(\"b13c235c-d1ab-4be9-81cb-13b065619c86\")) {                    Plotly.newPlot(                        \"b13c235c-d1ab-4be9-81cb-13b065619c86\",                        [{\"hovertemplate\":\"x=%{x}<br>y=%{y}<extra></extra>\",\"legendgroup\":\"\",\"marker\":{\"color\":\"#636efa\",\"symbol\":\"circle\"},\"mode\":\"markers\",\"name\":\"\",\"orientation\":\"v\",\"showlegend\":false,\"x\":[4.967141530112327,-1.3826430117118464,6.476885381006925,15.230298564080254,-2.3415337472333597,-2.3413695694918055,15.792128155073915,7.674347291529088,-4.694743859349521,5.425600435859646,-4.634176928124623,-4.657297535702568,2.419622715660341,-19.13280244657798,-17.249178325130327,-5.622875292409727,-10.128311203344238,3.142473325952739,-9.08024075521211,-14.123037013352915,14.65648768921554,-2.2577630048653567,0.6752820468792384,-14.247481862134567,-5.443827245251827,1.1092258970986608,-11.509935774223027,3.7569801834567196,-6.006386899188049,-2.916937497932768,-6.017066122293969,18.522781845089376,-0.13497224737933922,-10.577109289559004,8.22544912103189,-12.208436499710222,2.088635950047554,-19.596701238797756,-13.281860488984305,1.9686123586912352,7.384665799954105,1.713682811899705,-1.1564828238824052,-3.011036955892888,-14.785219903674275,-7.198442083947087,-4.606387709597875,10.571222262189156,3.436182895684614,-17.63040155362734,3.24083969394795,-3.8508228041631654,-6.769220003059587,6.116762888408679,10.30999522495951,9.312801191161986,-8.392175232226386,-3.092123758512146,3.3126343140356393,9.755451271223592,-4.791742378452899,-1.8565897666381712,-11.063349740060282,-11.962066240806708,8.12525822394198,13.562400285708229,-0.7201012158033384,10.03532897892024,3.6163602504763412,-6.451197546051243,3.6139560550841394,15.380365664659692,-0.35826039109951535,15.646436558140062,-26.197451040897445,8.219025043752238,0.8704706823817121,-2.990073504658674,0.917607765355023,-19.875689146008927,-2.1967188783751195,3.5711257151174642,14.778940447415161,-5.182702182736474,-8.084936028931876,-5.017570435845365,9.154021177020741,3.2875110965968446,-5.297602037670388,5.132674331133561,0.9707754934804038,9.686449905328892,-7.020530938773524,-3.2766214659776822,-3.921081531321576,-14.635149481321186,2.9612027706457607,2.6105527217988933,0.051134566424608896,-2.345871333751469],\"xaxis\":\"x\",\"y\":[0.9930851252264357,0.2005848559094788,0.9984637682764429,0.9999997570229413,0.08774107209974963,0.08775421419864254,0.9999998614629854,0.9995356220441739,0.009060368175500556,0.995616874372647,0.00962064326806339,0.009402827390081511,0.9183114468187481,4.906021780854055e-09,3.226836955051445e-08,0.0036012185274846135,3.993125787429841e-05,0.9586111233630191,0.0001138812131295876,7.352628749991911e-07,0.9999995687112943,0.09468194429421971,0.662684887024743,6.492275850574327e-07,0.004304299659411503,0.7519847665651975,1.0029841044576444e-05,0.9771788104242923,0.0024569197638253434,0.0513226051189301,0.0024308848150005045,0.9999999909706175,0.46630807121252776,2.5492282920590085e-05,0.999732319602906,4.988169805653294e-06,0.8897937368524663,3.085039913082016e-09,1.705141952446254e-06,0.8774619887203879,0.9993796869608355,0.84731335193612,0.23930696169101062,0.04692974360044713,3.7919309244123687e-07,0.0007471911208474796,0.009889061882287884,0.9999743572045594,0.9688164027498999,2.204011630525993e-08,0.9623425512836049,0.020819564127516902,0.0011472724525404996,0.9977992697542761,0.999966702509461,0.9999097467949569,0.0002265824095119688,0.04343331384911415,0.9648597078616443,0.9999420256129357,0.008229696633844177,0.13510103781310762,1.5676223560481556e-05,6.3817217991075565e-06,0.9997041192772239,0.9999987119763566,0.3273706949116928,0.9999561779219257,0.9738233020965766,0.0015761424069680216,0.9737619457362999,0.9999997908817329,0.4113807413330608,0.999999839734932,4.193644122942504e-12,0.9997305949328421,0.7048436277718132,0.04787633908785155,0.7145544207551754,2.3339840232158255e-09,0.10004552211372311,0.9726451563937162,0.9999996184182903,0.005581491141640913,0.0003080513316360655,0.006577048382865587,0.9998942176593408,0.9639978739878834,0.004978666776757037,0.9941338559303547,0.7252740431019488,0.9999378843149077,0.000892553688421894,0.036381976780817296,0.019434463364167612,4.405905186836174e-07,0.9507902997980809,0.931537654656964,0.5127808568385706,0.08739450078487614],\"yaxis\":\"y\",\"type\":\"scatter\"}],                        {\"template\":{\"data\":{\"bar\":[{\"error_x\":{\"color\":\"#2a3f5f\"},\"error_y\":{\"color\":\"#2a3f5f\"},\"marker\":{\"line\":{\"color\":\"#E5ECF6\",\"width\":0.5},\"pattern\":{\"fillmode\":\"overlay\",\"size\":10,\"solidity\":0.2}},\"type\":\"bar\"}],\"barpolar\":[{\"marker\":{\"line\":{\"color\":\"#E5ECF6\",\"width\":0.5},\"pattern\":{\"fillmode\":\"overlay\",\"size\":10,\"solidity\":0.2}},\"type\":\"barpolar\"}],\"carpet\":[{\"aaxis\":{\"endlinecolor\":\"#2a3f5f\",\"gridcolor\":\"white\",\"linecolor\":\"white\",\"minorgridcolor\":\"white\",\"startlinecolor\":\"#2a3f5f\"},\"baxis\":{\"endlinecolor\":\"#2a3f5f\",\"gridcolor\":\"white\",\"linecolor\":\"white\",\"minorgridcolor\":\"white\",\"startlinecolor\":\"#2a3f5f\"},\"type\":\"carpet\"}],\"choropleth\":[{\"colorbar\":{\"outlinewidth\":0,\"ticks\":\"\"},\"type\":\"choropleth\"}],\"contour\":[{\"colorbar\":{\"outlinewidth\":0,\"ticks\":\"\"},\"colorscale\":[[0.0,\"#0d0887\"],[0.1111111111111111,\"#46039f\"],[0.2222222222222222,\"#7201a8\"],[0.3333333333333333,\"#9c179e\"],[0.4444444444444444,\"#bd3786\"],[0.5555555555555556,\"#d8576b\"],[0.6666666666666666,\"#ed7953\"],[0.7777777777777778,\"#fb9f3a\"],[0.8888888888888888,\"#fdca26\"],[1.0,\"#f0f921\"]],\"type\":\"contour\"}],\"contourcarpet\":[{\"colorbar\":{\"outlinewidth\":0,\"ticks\":\"\"},\"type\":\"contourcarpet\"}],\"heatmap\":[{\"colorbar\":{\"outlinewidth\":0,\"ticks\":\"\"},\"colorscale\":[[0.0,\"#0d0887\"],[0.1111111111111111,\"#46039f\"],[0.2222222222222222,\"#7201a8\"],[0.3333333333333333,\"#9c179e\"],[0.4444444444444444,\"#bd3786\"],[0.5555555555555556,\"#d8576b\"],[0.6666666666666666,\"#ed7953\"],[0.7777777777777778,\"#fb9f3a\"],[0.8888888888888888,\"#fdca26\"],[1.0,\"#f0f921\"]],\"type\":\"heatmap\"}],\"heatmapgl\":[{\"colorbar\":{\"outlinewidth\":0,\"ticks\":\"\"},\"colorscale\":[[0.0,\"#0d0887\"],[0.1111111111111111,\"#46039f\"],[0.2222222222222222,\"#7201a8\"],[0.3333333333333333,\"#9c179e\"],[0.4444444444444444,\"#bd3786\"],[0.5555555555555556,\"#d8576b\"],[0.6666666666666666,\"#ed7953\"],[0.7777777777777778,\"#fb9f3a\"],[0.8888888888888888,\"#fdca26\"],[1.0,\"#f0f921\"]],\"type\":\"heatmapgl\"}],\"histogram\":[{\"marker\":{\"pattern\":{\"fillmode\":\"overlay\",\"size\":10,\"solidity\":0.2}},\"type\":\"histogram\"}],\"histogram2d\":[{\"colorbar\":{\"outlinewidth\":0,\"ticks\":\"\"},\"colorscale\":[[0.0,\"#0d0887\"],[0.1111111111111111,\"#46039f\"],[0.2222222222222222,\"#7201a8\"],[0.3333333333333333,\"#9c179e\"],[0.4444444444444444,\"#bd3786\"],[0.5555555555555556,\"#d8576b\"],[0.6666666666666666,\"#ed7953\"],[0.7777777777777778,\"#fb9f3a\"],[0.8888888888888888,\"#fdca26\"],[1.0,\"#f0f921\"]],\"type\":\"histogram2d\"}],\"histogram2dcontour\":[{\"colorbar\":{\"outlinewidth\":0,\"ticks\":\"\"},\"colorscale\":[[0.0,\"#0d0887\"],[0.1111111111111111,\"#46039f\"],[0.2222222222222222,\"#7201a8\"],[0.3333333333333333,\"#9c179e\"],[0.4444444444444444,\"#bd3786\"],[0.5555555555555556,\"#d8576b\"],[0.6666666666666666,\"#ed7953\"],[0.7777777777777778,\"#fb9f3a\"],[0.8888888888888888,\"#fdca26\"],[1.0,\"#f0f921\"]],\"type\":\"histogram2dcontour\"}],\"mesh3d\":[{\"colorbar\":{\"outlinewidth\":0,\"ticks\":\"\"},\"type\":\"mesh3d\"}],\"parcoords\":[{\"line\":{\"colorbar\":{\"outlinewidth\":0,\"ticks\":\"\"}},\"type\":\"parcoords\"}],\"pie\":[{\"automargin\":true,\"type\":\"pie\"}],\"scatter\":[{\"marker\":{\"colorbar\":{\"outlinewidth\":0,\"ticks\":\"\"}},\"type\":\"scatter\"}],\"scatter3d\":[{\"line\":{\"colorbar\":{\"outlinewidth\":0,\"ticks\":\"\"}},\"marker\":{\"colorbar\":{\"outlinewidth\":0,\"ticks\":\"\"}},\"type\":\"scatter3d\"}],\"scattercarpet\":[{\"marker\":{\"colorbar\":{\"outlinewidth\":0,\"ticks\":\"\"}},\"type\":\"scattercarpet\"}],\"scattergeo\":[{\"marker\":{\"colorbar\":{\"outlinewidth\":0,\"ticks\":\"\"}},\"type\":\"scattergeo\"}],\"scattergl\":[{\"marker\":{\"colorbar\":{\"outlinewidth\":0,\"ticks\":\"\"}},\"type\":\"scattergl\"}],\"scattermapbox\":[{\"marker\":{\"colorbar\":{\"outlinewidth\":0,\"ticks\":\"\"}},\"type\":\"scattermapbox\"}],\"scatterpolar\":[{\"marker\":{\"colorbar\":{\"outlinewidth\":0,\"ticks\":\"\"}},\"type\":\"scatterpolar\"}],\"scatterpolargl\":[{\"marker\":{\"colorbar\":{\"outlinewidth\":0,\"ticks\":\"\"}},\"type\":\"scatterpolargl\"}],\"scatterternary\":[{\"marker\":{\"colorbar\":{\"outlinewidth\":0,\"ticks\":\"\"}},\"type\":\"scatterternary\"}],\"surface\":[{\"colorbar\":{\"outlinewidth\":0,\"ticks\":\"\"},\"colorscale\":[[0.0,\"#0d0887\"],[0.1111111111111111,\"#46039f\"],[0.2222222222222222,\"#7201a8\"],[0.3333333333333333,\"#9c179e\"],[0.4444444444444444,\"#bd3786\"],[0.5555555555555556,\"#d8576b\"],[0.6666666666666666,\"#ed7953\"],[0.7777777777777778,\"#fb9f3a\"],[0.8888888888888888,\"#fdca26\"],[1.0,\"#f0f921\"]],\"type\":\"surface\"}],\"table\":[{\"cells\":{\"fill\":{\"color\":\"#EBF0F8\"},\"line\":{\"color\":\"white\"}},\"header\":{\"fill\":{\"color\":\"#C8D4E3\"},\"line\":{\"color\":\"white\"}},\"type\":\"table\"}]},\"layout\":{\"annotationdefaults\":{\"arrowcolor\":\"#2a3f5f\",\"arrowhead\":0,\"arrowwidth\":1},\"autotypenumbers\":\"strict\",\"coloraxis\":{\"colorbar\":{\"outlinewidth\":0,\"ticks\":\"\"}},\"colorscale\":{\"diverging\":[[0,\"#8e0152\"],[0.1,\"#c51b7d\"],[0.2,\"#de77ae\"],[0.3,\"#f1b6da\"],[0.4,\"#fde0ef\"],[0.5,\"#f7f7f7\"],[0.6,\"#e6f5d0\"],[0.7,\"#b8e186\"],[0.8,\"#7fbc41\"],[0.9,\"#4d9221\"],[1,\"#276419\"]],\"sequential\":[[0.0,\"#0d0887\"],[0.1111111111111111,\"#46039f\"],[0.2222222222222222,\"#7201a8\"],[0.3333333333333333,\"#9c179e\"],[0.4444444444444444,\"#bd3786\"],[0.5555555555555556,\"#d8576b\"],[0.6666666666666666,\"#ed7953\"],[0.7777777777777778,\"#fb9f3a\"],[0.8888888888888888,\"#fdca26\"],[1.0,\"#f0f921\"]],\"sequentialminus\":[[0.0,\"#0d0887\"],[0.1111111111111111,\"#46039f\"],[0.2222222222222222,\"#7201a8\"],[0.3333333333333333,\"#9c179e\"],[0.4444444444444444,\"#bd3786\"],[0.5555555555555556,\"#d8576b\"],[0.6666666666666666,\"#ed7953\"],[0.7777777777777778,\"#fb9f3a\"],[0.8888888888888888,\"#fdca26\"],[1.0,\"#f0f921\"]]},\"colorway\":[\"#636efa\",\"#EF553B\",\"#00cc96\",\"#ab63fa\",\"#FFA15A\",\"#19d3f3\",\"#FF6692\",\"#B6E880\",\"#FF97FF\",\"#FECB52\"],\"font\":{\"color\":\"#2a3f5f\"},\"geo\":{\"bgcolor\":\"white\",\"lakecolor\":\"white\",\"landcolor\":\"#E5ECF6\",\"showlakes\":true,\"showland\":true,\"subunitcolor\":\"white\"},\"hoverlabel\":{\"align\":\"left\"},\"hovermode\":\"closest\",\"mapbox\":{\"style\":\"light\"},\"paper_bgcolor\":\"white\",\"plot_bgcolor\":\"#E5ECF6\",\"polar\":{\"angularaxis\":{\"gridcolor\":\"white\",\"linecolor\":\"white\",\"ticks\":\"\"},\"bgcolor\":\"#E5ECF6\",\"radialaxis\":{\"gridcolor\":\"white\",\"linecolor\":\"white\",\"ticks\":\"\"}},\"scene\":{\"xaxis\":{\"backgroundcolor\":\"#E5ECF6\",\"gridcolor\":\"white\",\"gridwidth\":2,\"linecolor\":\"white\",\"showbackground\":true,\"ticks\":\"\",\"zerolinecolor\":\"white\"},\"yaxis\":{\"backgroundcolor\":\"#E5ECF6\",\"gridcolor\":\"white\",\"gridwidth\":2,\"linecolor\":\"white\",\"showbackground\":true,\"ticks\":\"\",\"zerolinecolor\":\"white\"},\"zaxis\":{\"backgroundcolor\":\"#E5ECF6\",\"gridcolor\":\"white\",\"gridwidth\":2,\"linecolor\":\"white\",\"showbackground\":true,\"ticks\":\"\",\"zerolinecolor\":\"white\"}},\"shapedefaults\":{\"line\":{\"color\":\"#2a3f5f\"}},\"ternary\":{\"aaxis\":{\"gridcolor\":\"white\",\"linecolor\":\"white\",\"ticks\":\"\"},\"baxis\":{\"gridcolor\":\"white\",\"linecolor\":\"white\",\"ticks\":\"\"},\"bgcolor\":\"#E5ECF6\",\"caxis\":{\"gridcolor\":\"white\",\"linecolor\":\"white\",\"ticks\":\"\"}},\"title\":{\"x\":0.05},\"xaxis\":{\"automargin\":true,\"gridcolor\":\"white\",\"linecolor\":\"white\",\"ticks\":\"\",\"title\":{\"standoff\":15},\"zerolinecolor\":\"white\",\"zerolinewidth\":2},\"yaxis\":{\"automargin\":true,\"gridcolor\":\"white\",\"linecolor\":\"white\",\"ticks\":\"\",\"title\":{\"standoff\":15},\"zerolinecolor\":\"white\",\"zerolinewidth\":2}}},\"xaxis\":{\"anchor\":\"y\",\"domain\":[0.0,1.0],\"title\":{\"text\":\"x\"}},\"yaxis\":{\"anchor\":\"x\",\"domain\":[0.0,1.0],\"title\":{\"text\":\"y\"}},\"legend\":{\"tracegroupgap\":0},\"title\":{\"text\":\"Sigmoidal Series\"}},                        {\"responsive\": true}                    ).then(function(){\n",
              "                            \n",
              "var gd = document.getElementById('b13c235c-d1ab-4be9-81cb-13b065619c86');\n",
              "var x = new MutationObserver(function (mutations, observer) {{\n",
              "        var display = window.getComputedStyle(gd).display;\n",
              "        if (!display || display === 'none') {{\n",
              "            console.log([gd, 'removed!']);\n",
              "            Plotly.purge(gd);\n",
              "            observer.disconnect();\n",
              "        }}\n",
              "}});\n",
              "\n",
              "// Listen for the removal of the full notebook cells\n",
              "var notebookContainer = gd.closest('#notebook-container');\n",
              "if (notebookContainer) {{\n",
              "    x.observe(notebookContainer, {childList: true});\n",
              "}}\n",
              "\n",
              "// Listen for the clearing of the current output cell\n",
              "var outputEl = gd.closest('.output');\n",
              "if (outputEl) {{\n",
              "    x.observe(outputEl, {childList: true});\n",
              "}}\n",
              "\n",
              "                        })                };                            </script>        </div>\n",
              "</body>\n",
              "</html>"
            ]
          },
          "metadata": {}
        }
      ]
    },
    {
      "cell_type": "markdown",
      "source": [
        "For Logistic Regression, we would be inputing $\\beta_0 + \\beta_1 x_1 + \\beta_2 x_2$ into the sigmoid function. Which would the equation look something like this.\n",
        "\n",
        "$$p = \\frac{1}{1 + e ^ {-(\\beta_0 + \\beta_1 x_1 + \\beta_2 x_2)}}$$\n",
        "\n",
        "This equation can be written in the terms of matrices.\n",
        "\n",
        "$$p = \\frac{1}{1 + e^{-BX^{T}}}$$\n",
        "\n",
        "Where -\n",
        "\n",
        "\n",
        "-  $B$ is the matrix with all the regression coefficients\n",
        "\n",
        "    $$B = [\\beta_0, \\beta_1, \\beta_2]$$\n",
        "\n",
        "-  $X$ is the matrix with all the feature values with an added column with 1s.\n",
        "\n",
        "  $$X = \\begin{bmatrix} 1 & x_{1,1} & x_{2,1} \\\\ 1 & x_{1,2} & x_{2,2}\\\\ 1 & x_{1,3} & x_{2,3} \\\\ \\vdots & \\vdots & \\vdots \\\\ 1 & x_{1,1000} & x_{2,1000} \\end{bmatrix}$$\n",
        "\n",
        "The sigmoid function can help us in differentiating two classes but only when we have the equation of the ideal line to pass into the function.\n",
        "\n",
        "How can we get the equation of the ideal line? It's simple. By minimzing the cost function for Logistic Regression.\n",
        "\n",
        "---"
      ],
      "metadata": {
        "id": "_4Vls2EkcQWH"
      }
    },
    {
      "cell_type": "markdown",
      "source": [
        "#**Cost Function**\n",
        "\n",
        "Just like Linear Regression had MSE as its cost function, Logistic Regression has one too. So let's derive it."
      ],
      "metadata": {
        "id": "7nthqsL6Hqat"
      }
    },
    {
      "cell_type": "markdown",
      "source": [
        "#**Likelihood Function**\n",
        "\n",
        "So...we know that Logistic Regression is used for binary classification. Meaning the predictions can only be 0 or 1 (Either it belongs to a class, or it doesn't). So suppose, the probability of something belonging to class 1 is $p$, then probability of it belonging to class 0 would be $1 - p$.\n",
        "\n",
        "\\begin{split}\n",
        "& P(y = 1) = p \\\\\n",
        "& P(y = 0) = 1 - p\n",
        "\\end{split}\n",
        "\n",
        "We can combine these two equations into something like this.\n",
        "\n",
        "\\begin{split}\n",
        "& P(y) = p^y(1 - p)^{1-y} \\\\\n",
        "\\end{split}\n",
        "\n",
        "If we substitute $y$ with $1$ we get the following .\n",
        "\n",
        "\\begin{split}\n",
        "P(y = 1) \n",
        "& = p^1 (1 - p)^{1 - 1} \\\\\n",
        "& ⇒ p (1 - p)^0 \\\\\n",
        "& ⇒ p\n",
        "\\end{split}\n",
        "\n",
        "If we substitute $y$ with $0$ we get the following .\n",
        "\n",
        "\\begin{split}\n",
        "P(y = 1) \n",
        "& = p^0 (1 - p)^{1 - 0} \\\\\n",
        "& ⇒ p^0 (1 - p)^1 \\\\\n",
        "& ⇒ 1 - p\n",
        "\\end{split}\n",
        "\n",
        "\\\n",
        "\n",
        "This equation is called the **likelihood function**, and it can give us the likelihood of one item belonging to a class. To get the likelihood function of all the items in a series, we just can just multiply the likelihood of all the items.\n",
        "\n",
        "\\begin{split}\n",
        "P(y) \n",
        "& = p_1^{y_1}(1 - p_1)^{1-y_1} × p_2^{y_2}(1 - p_2)^{1-y_2} × … × p_n^{y_n}(1 - p_n)^{1-y_n} \\\\[5px]\n",
        "& ⇒ \\prod_{i = 1}^n \\space p_i^{y_i}(1 - p_i)^{1-y_i}\n",
        "\\end{split}"
      ],
      "metadata": {
        "id": "UdcAn_IIAo36"
      }
    },
    {
      "cell_type": "markdown",
      "source": [
        "#**Log Likelihood Function**\n",
        "\n",
        "When we start applying it on a series, the likelihood function would have huge numbers in it. This would complexify our calculations. So to tackle this problem we can take the log of this function.\n",
        "\n",
        "\\begin{split}\n",
        "P(y) \n",
        "& = p_1^{y_1}(1 - p_1)^{1-y_1} × p_2^{y_2}(1 - p_2)^{1-y_2} × … × p_n^{y_n}(1 - p_n)^{1-y_n} \\\\[5px]\n",
        "& = log(p_1^{y_1}(1 - p_1)^{1-y_1} × p_2^{y_2}(1 - p_2)^{1-y_2} × … × p_n^{y_n}(1 - p_n)^{1-y_n}) \\\\[5px]\n",
        "& = log(p_1^{y_1}(1 - p_1)^{1-y_1}) + log(p_2^{y_2}(1 - p_2)^{1-y_2}) + … + log(p_n^{y_n}(1 - p_n)^{1-y_n}) \\\\[5px]\n",
        "& = (log(p_1^{y_1}) + log(1 - p_1)^{1-y_1}) + (log(p_2^{y_2}) + log(1 - p_2)^{1-y_2}) + … + (log(p_n^{y_n}) + log(1 - p_n)^{1-y_n}) \\\\[5px]\n",
        "& = (y_1 \\space log \\space p_1 + (1-y_1)log(1 - p_1)) + (y_2 \\space log \\space p_2 + (1-y_2)log(1 - p_2)) + … + (y_n \\space log \\space p_n + (1-y_n)log(1 - p_n)) \\\\[5px]\n",
        "& = \\sum_{i = 1}^{n} (y_i \\space log \\space p_i + (1-y_i)log(1 - p_i)\n",
        "\\end{split}\n",
        "\n",
        "\\\n",
        "\n",
        "This function takes in the values of $p_i$ and $1 - p_i$ which range from 0 to 1 (it takes in probabilities).\n",
        "\n",
        "Let's plot a log of numbers that fall between 0 and 1."
      ],
      "metadata": {
        "id": "4YbTOPsoHiJW"
      }
    },
    {
      "cell_type": "code",
      "source": [
        "# Log of numbers ranging from 0 to 1.\n",
        "series = np.linspace(0, 1, 100)\n",
        "px.scatter(x = series, y = np.log(series))"
      ],
      "metadata": {
        "id": "OtlO9lynTUKS"
      },
      "execution_count": null,
      "outputs": []
    },
    {
      "cell_type": "markdown",
      "source": [
        "As you can see the log of numbers from 0 to 1 is in negative. Meaning the whole function $P(y)$ would be negative for all the inputs. So we would multiply $-1$ with $P(y)$ to fix this.\n",
        "\n",
        "And one more thing. $\\sum_{i = 1}^{n} (y_i \\space log \\space p_i + (1-y_i)log(1 - p_i)$ gives us the sum of all errors and not the mean. So to fix this we can divide the whole equation by $n$ to get the mean of all errors.\n",
        "\n",
        "$$J = -\\frac1n \\sum_{i = 1}^{n} (y_i \\space log \\space p_i + (1-y_i)log(1 - p_i)$$\n",
        "\n",
        "And to avoid overfitting, let's add pennalisation to the equation just the way we added it to cost function for Ridge Regression.\n",
        "\n",
        "\n",
        "$$J = -\\frac1n \\sum_{i = 1}^{n} (y_i \\space log \\space p_i + (1-y_i)log(1 - p_i) + \\frac\\lambda n (\\sum_{i = 1}^n \\beta_i ^ 2)$$\n",
        "\n",
        "This function we have here is also called as the **Regularized Cost Function** and can help us in getting the error values for certain value of $\\beta$s."
      ],
      "metadata": {
        "id": "t52Dyrr6iPb8"
      }
    },
    {
      "cell_type": "markdown",
      "source": [
        "#**Gradient Descent**\n",
        "\n",
        "Now that we have our Cost Function all we need to do is find the minimum value of it to get the best predictions. And we can do this by applying partial differentation on the function.\n",
        "\n",
        "According to the Convergence Theorem, the ideal $\\beta$ value can be calculated using the equation below.\n",
        "\n",
        "$$\\beta_n = \\beta_n - \\left(\\frac{\\partial J}{\\partial \\beta_n}\\right) * L$$\n",
        "\n",
        "All we need to do is find the value of $\\frac{\\partial J}{\\partial \\beta_n}$ for each $\\beta$ and we are good to go.\n",
        "\n",
        "\\\n",
        "\n",
        "\\begin{align}\n",
        "J &= - \\frac{1}{n} \\sum_{i = 1} ^{n} (y_i \\log p_i  + (1 - y_i) \\log(1 - p_i)) + \\frac{\\lambda}{n}(\\beta_1^2 + \\beta_2^2 + \\dots + \\beta_n^2)\\\\\n",
        "\\frac{\\partial J}{\\partial \\beta_0} &=  - \\frac{1}{n} \\sum_{i = 1} ^{n} \\left( y_i \\times \\frac{1}{p_i} \\times \\frac{\\partial p_i}{\\partial \\beta_0} + (1 - y_i) \\times \\frac{-1}{1 - p_i} \\times \\frac{\\partial p_i}{\\partial \\beta_0} \\right) + \\frac{\\lambda}{n}\\times 0\n",
        "\\end{align}\n",
        "\n",
        "\\\n",
        "\n",
        "We know that\n",
        "\n",
        "\\begin{align}\n",
        "p_i &= \\frac{1}{1 + e^{-(\\beta_0 + \\beta_1 x_1 + \\beta_2 x_2 + \\dots + \\beta_n x_n)}} \\\\\n",
        "\\therefore \\frac{\\partial p_i}{\\partial \\beta_0} &= - \\left( \\frac{1}{1 + e^{-(\\beta_0 + \\beta_1 x_1 + \\beta_2 x_2 + \\dots + \\beta_n x_n)}} \\right)^2 (0 + e^{-(\\beta_0 + \\beta_1 x_1 + \\beta_2 x_2 + \\dots + \\beta_n x_n)})(-1 + 0) \\\\\n",
        "&= \\frac{e^{-(\\beta_0 + \\beta_1 x_1 + \\beta_2 x_2 + \\dots + \\beta_n x_n)}}{(1 + e^{-(\\beta_0 + \\beta_1 x_1 + \\beta_2 x_2 + \\dots + \\beta_n x_n)})^2} \\\\\n",
        "\\end{align}\n",
        "\n",
        "\\\n",
        "\n",
        "On adding $-1$ and $1$ to the above equation, we get\n",
        "\n",
        "\\begin{align}\n",
        "\\therefore \\frac{\\partial p_i}{\\partial \\beta_0} &= \\frac{1 + e^{-(\\beta_0 + \\beta_1 x_1 + \\beta_2 x_2 + \\dots + \\beta_n x_n)} - 1}{(1 + e^{-(\\beta_0 + \\beta_1 x_1 + \\beta_2 x_2 + \\dots + \\beta_n x_n)})^2} \\\\\n",
        "&= \\frac{1}{1 + e^{-(\\beta_0 + \\beta_1 x_1 + \\beta_2 x_2 + \\dots + \\beta_n x_n)}} - \\frac{1}{(1 + e^{-(\\beta_0 + \\beta_1 x_1 + \\beta_2 x_2 + \\dots + \\beta_n x_n)})^2} \\\\\n",
        "&= p_i - p_i^2 \\\\\n",
        "&= p_i(1 - p_i)\n",
        "\\end{align}\n",
        "\n",
        "\\\n",
        "\n",
        "On substituting $\\frac{\\partial p_i}{\\partial \\beta_0}$ in the derivative of the cost function with respect to $\\beta_0$, we get\n",
        "\n",
        "\\begin{align}\n",
        "\\frac{\\partial J}{\\partial \\beta_0} &=  - \\frac{1}{n} \\sum_{i = 1} ^{n} \\left( y_i \\times \\frac{1}{p_i} \\times p_i(1 - p_i) + (1 - y_i) \\times \\frac{-1}{1 - p_i} \\times p_i(1 - p_i) \\right) \\\\\n",
        "&=  - \\frac{1}{n} \\sum_{i = 1} ^{n} \\left( y_i (1 - p_i) - (1 - y_i) p_i\\right) \\\\\n",
        "&=  - \\frac{1}{n} \\sum_{i = 1} ^{n} (y_i  - y_i p_i - p_i + y_i p_i) \\\\\n",
        "\\Rightarrow \\frac{\\partial J}{\\partial \\beta_0} &=  \\frac{1}{n} \\sum_{i = 1} ^{n} (p_i  - y_i)\n",
        "\\end{align}\n",
        "\n",
        "\\\n",
        "\n",
        "Similarly, if you differentiate $J$ with respect to to $\\beta_1$, you will get \n",
        "\n",
        "\\begin{equation}\n",
        "\\frac{\\partial J}{\\partial \\beta_1} =  \\frac{1}{n} \\sum_{i = 1} ^{n} (p_i  - y_i)x_1 + \\frac{\\lambda}{n} \\beta_1 \\\\\n",
        "\\end{equation}\n",
        "\n",
        "\\\n",
        "\n",
        "In general, for $\\beta_n$ you will get\n",
        "\n",
        "\\begin{equation}\n",
        "\\frac{\\partial J}{\\partial \\beta_n} =  \\frac{1}{n} \\sum_{i = 1} ^{n} (p_i  - y_i)x_n + \\frac{\\lambda}{n} \\beta_n \\\\\n",
        "\\end{equation}"
      ],
      "metadata": {
        "id": "fBWif-MdT37_"
      }
    },
    {
      "cell_type": "markdown",
      "source": [
        "Now let's code this into Python."
      ],
      "metadata": {
        "id": "rqB0oIU1Fs6Y"
      }
    },
    {
      "cell_type": "code",
      "source": [
        "# Creating a function for the cost function.\n",
        "def reg_cost_function(betas, x, y, penn_const):\n",
        "  n = x.shape[0]\n",
        "  series = np.matmul(betas, np.transpose(x))\n",
        "  p = sigmoid(series)\n",
        "  y = y.reshape(1, n)\n",
        "\n",
        "  class_0 = y * np.log(p)\n",
        "  class_1 = (1 - y) * np.log(1 - p)\n",
        "\n",
        "  cf = (-1 / n) * np.sum(class_0 + class_1)\n",
        "  pennalize = penn_const/(2 * n) * np.sum(betas[:, 1:]**2)\n",
        "\n",
        "  grad = np.zeros((1, betas.shape[1]))\n",
        "\n",
        "  for i in range(betas.shape[1]):\n",
        "    grad[0, i] = (1/n) * np.matmul(p - y, x[:, i])\n",
        "\n",
        "  return (cf + pennalize, grad)"
      ],
      "metadata": {
        "id": "RaS8psNp0YHb"
      },
      "execution_count": null,
      "outputs": []
    },
    {
      "cell_type": "code",
      "source": [
        "# Creating a function for gradient descent.\n",
        "def gradient_descent(X, y, beta, learn_rate, num_iters, penn_const):\n",
        "  m = X.shape[0]\n",
        "  cost_func_values = []\n",
        "  \n",
        "  for i in range(num_iters):\n",
        "    cost, grad = reg_cost_function(beta, X, y, penn_const)\n",
        "    beta[0][0] = beta[0][0] - learn_rate * grad[0][0]\n",
        "    beta[0][1] = beta[0][1] - learn_rate * (grad[0][1] + penn_const * beta[0][1] / m)\n",
        "    beta[0][2] = beta[0][2] - learn_rate * (grad[0][2] + penn_const * beta[0][2] / m)\n",
        "    cost_func_values.append(cost)\n",
        "\n",
        "  return beta, cost_func_values"
      ],
      "metadata": {
        "id": "Cs1rZDAC0bly"
      },
      "execution_count": null,
      "outputs": []
    },
    {
      "cell_type": "markdown",
      "source": [
        "Now that we have both the function ready, let's use them to seperate the two classes."
      ],
      "metadata": {
        "id": "7OlD7WC3F3x-"
      }
    },
    {
      "cell_type": "code",
      "source": [
        "# Seperating the features and targets.\n",
        "features_array = df.iloc[:, :-1].values\n",
        "target_array = df.iloc[:, -1].values"
      ],
      "metadata": {
        "id": "8DfHPvt72POx"
      },
      "execution_count": null,
      "outputs": []
    },
    {
      "cell_type": "code",
      "source": [
        "# Getting the function inputs ready.\n",
        "x = np.append(np.ones((features_array.shape[0], 1)), features_array, axis = 1)\n",
        "y = target_array\n",
        "betas = np.zeros((1, x.shape[1]))"
      ],
      "metadata": {
        "id": "lIXllIrugoHk"
      },
      "execution_count": null,
      "outputs": []
    },
    {
      "cell_type": "code",
      "source": [
        "# Applying the functions.\n",
        "results = gradient_descent(x, y, betas, 0.001, 10000, 10)"
      ],
      "metadata": {
        "id": "fT7p-CAry26H"
      },
      "execution_count": null,
      "outputs": []
    },
    {
      "cell_type": "code",
      "source": [
        "# Checking the beta values.\n",
        "betas = results[0].ravel()\n",
        "betas"
      ],
      "metadata": {
        "id": "58g5dfVw0gkR"
      },
      "execution_count": null,
      "outputs": []
    },
    {
      "cell_type": "markdown",
      "source": [
        "Now that we have the ideal beta values for the ideal line, let's use them to plot a line and pass it inside the sigmoid function."
      ],
      "metadata": {
        "id": "A0i4zZxL3rps"
      }
    },
    {
      "cell_type": "code",
      "source": [
        "# Plotting the new line for seperation.\n",
        "pred = betas[1] * df[\"Feature 1\"] + betas[0]\n",
        "\n",
        "fig = px.scatter(data_frame = df, x = \"Feature 1\", y = \"Target\", color = \"Target\", color_continuous_scale = [\"red\", \"blue\"])\n",
        "fig.add_traces(px.scatter(data_frame = df, x = \"Feature 1\", y = sigmoid(pred), color_discrete_sequence = [\"orange\"]).data)\n",
        "fig.show()"
      ],
      "metadata": {
        "id": "_0WHdNL63zmp"
      },
      "execution_count": null,
      "outputs": []
    },
    {
      "cell_type": "markdown",
      "source": [
        "As you can see, the issue of having predictions ranging from $- ∞$ to $+ ∞$ is solved here. \n",
        "\n",
        "Now let's plot a decision boundary to seperate the two classes. But wait...what is a decision boundary? "
      ],
      "metadata": {
        "id": "uNWRiwWH4vJQ"
      }
    },
    {
      "cell_type": "markdown",
      "source": [
        "#**Decision Boundary**\n",
        "\n",
        "In the simplest terms, a decision boundary is just a line that can help us in identifying which point belongs to which class. The image below can help you understand a decision boundary much more clearly.\n",
        "\n",
        "\\\n",
        "\n",
        "<center><img src = \"https://www.jeremyjordan.me/content/images/2017/06/Screen-Shot-2017-06-10-at-9.41.25-AM.png\" width = 50%></center>\n",
        "\n",
        "\\\n",
        "\n",
        "Here the blue line seperates the two classes which are represented as green and red dots. Any point to the left of the decision boundary belongs to the class represented with the red dots. Any point to the right belongs to the classs represented with the green dots. That's all what a decision boundary does.\n",
        "\n",
        "\\\n",
        "\n",
        "It can be calculated using the equation of the straight line itself. The equation of the straight line in the general form can be given as this -\n",
        "\n",
        "$$ax + by + c = 0$$\n",
        "\n",
        "Where,\n",
        "\n",
        "- a is the coefficient of x,\n",
        "- b is the coefficient of y.\n",
        "- c is some arbitrary constant.\n",
        "\n",
        "Using this equation we can assume that the equation of the decision boundary is -\n",
        "\n",
        "$$\\beta_0 + \\beta_1 x_1 + \\beta_2 x_2 = 0$$\n",
        "\n",
        "Where,\n",
        "\n",
        "- $x_1$ is the $1^{st}$ feature variable.\n",
        "- $x_2$ is the $2^{nd}$ feature variable.\n",
        "\n",
        "If we are able to calculate $x_2$ values for certain $x_1$ values, then we would be able to plot our decision boundary. This can be done this way.\n",
        "\n",
        "\\begin{split}\n",
        "& \\beta_0 + \\beta_1 x_1 + \\beta_2 x_2 = 0 \\\\[5px]\n",
        "& \\Rightarrow \\beta_2 x_2 = -(\\beta_0 + \\beta_1 x_1) \\\\[5px]\n",
        "& \\Rightarrow x_2 = - \\left(\\frac{\\beta_0 + \\beta_1 x_1}{\\beta_2}\\right)\n",
        "\\end{split}\n",
        "\n",
        "Let's code this using Python.\n",
        "\n"
      ],
      "metadata": {
        "id": "CSTuliQvG7VB"
      }
    },
    {
      "cell_type": "code",
      "source": [
        "# Using the betas to plot a decision boundary.\n",
        "pred = (-betas[0] -betas[1]*df[\"Feature 1\"])/betas[2]\n",
        "\n",
        "fig = px.scatter(data_frame = df[df[\"Target\"] == 0], x = \"Feature 1\", y = \"Feature 2\")\n",
        "fig.add_traces(px.scatter(data_frame = df[df[\"Target\"] == 1], x = \"Feature 1\", y = \"Feature 2\", color_discrete_sequence = \"red\", color = \"Target\").data)\n",
        "fig.add_traces(px.line(x = df[\"Feature 1\"], y = pred, color_discrete_sequence = [\"orange\"]).data)\n",
        "fig"
      ],
      "metadata": {
        "id": "76-90npbayDX"
      },
      "execution_count": null,
      "outputs": []
    },
    {
      "cell_type": "markdown",
      "source": [
        "As you can see, the decision boundary we plotted is able to seperate the two classes. Most of the points to the left of the boundary belong to the class 0, while most of the points to the right of the boundary belong to class 1."
      ],
      "metadata": {
        "id": "vbhRG6-kMU2l"
      }
    },
    {
      "cell_type": "markdown",
      "source": [
        "We can also get the predictions for each feature variable by just mutliplying the $B$ and $X^T$ matrices. Once we have these predictions, we'll have to convert them into a sigmoidal series which would give us the probabilty of of an item belonging to class 1. In our example class 1 is $y = 1$, or the case in which a person bought something."
      ],
      "metadata": {
        "id": "UTOr8BXazVV7"
      }
    },
    {
      "cell_type": "code",
      "source": [
        "# Getting the predictions.\n",
        "features_array = np.append(np.ones((features_array.shape[0], 1)), features_array, axis = 1)\n",
        "best_fit_line = np.matmul(betas, np.transpose(features_array))\n",
        "sigmoid_outputs = sigmoid(best_fit_line)"
      ],
      "metadata": {
        "id": "Q6WLCB0MsHcl"
      },
      "execution_count": null,
      "outputs": []
    },
    {
      "cell_type": "code",
      "source": [
        "# Assigning classes to each prediction.\n",
        "y_pred = np.array([1 if output >= 0.5 else 0 for output in sigmoid_outputs])\n",
        "y_pred"
      ],
      "metadata": {
        "id": "bamnGM7tsn0O"
      },
      "execution_count": null,
      "outputs": []
    },
    {
      "cell_type": "markdown",
      "source": [
        "Now that we have assigned each item a class based upon the predictions, let's check the accuracy of our predictions."
      ],
      "metadata": {
        "id": "g82QJdBW0BnU"
      }
    },
    {
      "cell_type": "code",
      "source": [
        "# Checking the accuracy.\n",
        "correct_preds_count = np.unique((y == y_pred), return_counts = True)[1][1]\n",
        "accuracy = (correct_preds_count/y.shape[0]) * 100\n",
        "accuracy"
      ],
      "metadata": {
        "id": "pGmXDqbHyttZ"
      },
      "execution_count": null,
      "outputs": []
    },
    {
      "cell_type": "markdown",
      "source": [
        "Our model gave us $84.25 \\%$ accuracy. That's a good score!!\n",
        "\n",
        "---"
      ],
      "metadata": {
        "id": "le_GhXhC0JT3"
      }
    },
    {
      "cell_type": "markdown",
      "source": [
        "We have successfully created an ML algorithm that uses Logistic Regression.\n",
        "\n",
        "#END OF THE NOTEBOOK"
      ],
      "metadata": {
        "id": "W4tsCp6l5Bqf"
      }
    }
  ]
}