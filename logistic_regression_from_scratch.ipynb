{
  "metadata": {
    "kernelspec": {
      "language": "python",
      "display_name": "Python 3",
      "name": "python3"
    },
    "language_info": {
      "pygments_lexer": "ipython3",
      "nbconvert_exporter": "python",
      "version": "3.6.4",
      "file_extension": ".py",
      "codemirror_mode": {
        "name": "ipython",
        "version": 3
      },
      "name": "python",
      "mimetype": "text/x-python"
    },
    "colab": {
      "name": "logistic-regression-from-scratch.ipynb",
      "provenance": [],
      "include_colab_link": true
    }
  },
  "nbformat_minor": 0,
  "nbformat": 4,
  "cells": [
    {
      "cell_type": "markdown",
      "metadata": {
        "id": "view-in-github",
        "colab_type": "text"
      },
      "source": [
        "<a href=\"https://colab.research.google.com/github/gruhasatya/ML/blob/main/logistic_regression_from_scratch.ipynb\" target=\"_parent\"><img src=\"https://colab.research.google.com/assets/colab-badge.svg\" alt=\"Open In Colab\"/></a>"
      ]
    },
    {
      "cell_type": "markdown",
      "source": [
        "Logistic Regression is a type of **linear model** that's mostly used for **binary classification** but can also be used for **multi-class classification**. If the term linear model seems something familiar, then that might be because Linear Regression is also a type of a linear model.\n",
        "\n",
        "To proceed with this notebook you firstly have to make sure that you understand ML concepts like Linear Regression, Cost Function, and Gradient Descent and mathematical concepts like Logarithm and Matrices. If you don't, then the links below can help you out.\n",
        "\n",
        "1. [Linear Regression](https://medium.com/ml-concepts/linear-regression-101-f4c27fb7a586)\n",
        "\n",
        "2. [Gradient Descent](https://medium.com/ml-concepts/gradient-descent-6a449eae1095)\n",
        "\n",
        "---"
      ],
      "metadata": {
        "id": "XVyp5glgx8nB"
      }
    },
    {
      "cell_type": "code",
      "source": [
        "# Importing neccessary modules.\n",
        "import numpy as np\n",
        "import pandas as pd\n",
        "\n",
        "import plotly.express as px\n",
        "import plotly.graph_objects as go\n",
        "\n",
        "import warnings\n",
        "warnings.filterwarnings(\"ignore\")"
      ],
      "metadata": {
        "id": "LoRYqpo4mVD_"
      },
      "execution_count": null,
      "outputs": []
    },
    {
      "cell_type": "code",
      "source": [
        "# Loading the data.\n",
        "df = pd.read_csv(\"/content/Social_Network_Ads.csv\")\n",
        "df.drop(columns = [\"User ID\", \"Gender\"], inplace = True)\n",
        "df = df.rename(columns = {\"Age\":\"Feature 1\", \"EstimatedSalary\":\"Feature 2\", \"Purchased\":\"Target\"})\n",
        "df.head()"
      ],
      "metadata": {
        "id": "1XQlWvaPd9yP"
      },
      "execution_count": null,
      "outputs": []
    },
    {
      "cell_type": "code",
      "source": [
        "# Scaling the data.\n",
        "from sklearn.preprocessing import StandardScaler\n",
        "\n",
        "scaler = StandardScaler()\n",
        "df.iloc[:, :-1] = pd.DataFrame(scaler.fit_transform(df.iloc[:, :-1]), columns = df.columns[:-1])\n",
        "df.head()"
      ],
      "metadata": {
        "id": "T8foOdG1eMkT"
      },
      "execution_count": null,
      "outputs": []
    },
    {
      "cell_type": "code",
      "source": [
        "# Plotting the target values.\n",
        "fig = px.scatter(data_frame = df, x = \"Feature 1\", y = \"Target\", color = \"Target\", color_continuous_scale = [\"red\", \"blue\"])\n",
        "fig.show()"
      ],
      "metadata": {
        "id": "5kx5098SeJyg"
      },
      "execution_count": null,
      "outputs": []
    },
    {
      "cell_type": "markdown",
      "source": [
        "As you can see from the plot above, the data we have can only have two values 0 and 1, no other. If we can plot a line right in the middle of the graph then we'll be able to seperate the two classes easily.\n",
        "\n",
        "Let's do this using Linear Regression."
      ],
      "metadata": {
        "id": "j_wNMxuh1ZUO"
      }
    },
    {
      "cell_type": "code",
      "source": [
        "# Using Linear Regression to seperate the classes.\n",
        "from sklearn.linear_model import LinearRegression\n",
        "\n",
        "features = df[[\"Feature 1\", \"Feature 2\"]].values.reshape(df.shape[0], -1)\n",
        "target = df[\"Target\"].values.reshape(df.shape[0], -1)\n",
        "\n",
        "linreg = LinearRegression()\n",
        "linreg.fit(features, target)\n",
        "\n",
        "beta_0 = linreg.intercept_\n",
        "betas = linreg.coef_.ravel()"
      ],
      "metadata": {
        "id": "Rn2IdFFsmfOa"
      },
      "execution_count": null,
      "outputs": []
    },
    {
      "cell_type": "code",
      "source": [
        "# Plotting the line.\n",
        "pred = betas[0] * df[\"Feature 1\"] + beta_0\n",
        "\n",
        "fig = px.scatter(data_frame = df, x = \"Feature 1\", y = \"Target\", color = \"Target\", color_continuous_scale = [\"red\", \"blue\"])\n",
        "fig.add_traces(px.line(data_frame = df, x = \"Feature 1\", y = pred, color_discrete_sequence = [\"orange\"]).data)\n",
        "fig.show()"
      ],
      "metadata": {
        "id": "i8RQ6qVSm7RI"
      },
      "execution_count": null,
      "outputs": []
    },
    {
      "cell_type": "markdown",
      "source": [
        "As you can see, the predicted values from the line above...can range from -$∞$ all the way to +$∞$. Which is not what we want. We want the predictions to be limited from 0 to 1 only. That way we'll be able to have the probability of something belonging to class 1 (in our case it'll be the probability of that person buying insurance). If the prediction is 0.5 then there would be a 50% chance of that person buying insurance. If the prediction is 0.9, then there would be a 90% chance of that person buying insurance.\n",
        "\n",
        "Lucky for us, there already exists a function which does the exact same thing. This function is called the **Sigmoid Function**.\n",
        "\n",
        "---"
      ],
      "metadata": {
        "id": "ioxgNXu712sE"
      }
    },
    {
      "cell_type": "markdown",
      "source": [
        "#**Sigmoid Function**\n",
        "\n",
        "The sigmoid function looks something like this,\n",
        "\n",
        "$$h(x) = \\frac{1}{1 + e ^ {-x}}$$\n",
        "\n",
        "It takes in any series and gives out that series in the terms of probabilities, which restricts it from 0 to 1. Let's take an example of this."
      ],
      "metadata": {
        "id": "Hclo_PS93AgS"
      }
    },
    {
      "cell_type": "code",
      "source": [
        "# Creating the sigmoid function.\n",
        "def sigmoid(series):\n",
        "  return 1 / (1 + np.exp(-series))"
      ],
      "metadata": {
        "id": "Y8M4Grgg778h"
      },
      "execution_count": null,
      "outputs": []
    },
    {
      "cell_type": "code",
      "source": [
        "# Using the sigmoid function over a series.\n",
        "np.random.seed(42)\n",
        "series = np.random.normal(0, 10, 100)\n",
        "\n",
        "fig1 = px.scatter(x = series, y = np.linspace(series.min(), series.max(), 100), title = \"Original Series\")\n",
        "fig1.show()\n",
        "\n",
        "fig2 = px.scatter(x = series, y = sigmoid(series), title = \"Sigmoidal Series\")\n",
        "fig2.show()"
      ],
      "metadata": {
        "id": "beYm0Iaw8L1T"
      },
      "execution_count": null,
      "outputs": []
    },
    {
      "cell_type": "markdown",
      "source": [
        "For Logistic Regression, we would be inputing $\\beta_0 + \\beta_1 x_1 + \\beta_2 x_2$ into the sigmoid function. Which would the equation look something like this.\n",
        "\n",
        "$$p = \\frac{1}{1 + e ^ {-(\\beta_0 + \\beta_1 x_1 + \\beta_2 x_2)}}$$\n",
        "\n",
        "This equation can be written in the terms of matrices.\n",
        "\n",
        "$$p = \\frac{1}{1 + e^{-BX^{T}}}$$\n",
        "\n",
        "Where -\n",
        "\n",
        "\n",
        "-  $B$ is the matrix with all the regression coefficients\n",
        "\n",
        "    $$B = [\\beta_0, \\beta_1, \\beta_2]$$\n",
        "\n",
        "-  $X$ is the matrix with all the feature values with an added column with 1s.\n",
        "\n",
        "  $$X = \\begin{bmatrix} 1 & x_{1,1} & x_{2,1} \\\\ 1 & x_{1,2} & x_{2,2}\\\\ 1 & x_{1,3} & x_{2,3} \\\\ \\vdots & \\vdots & \\vdots \\\\ 1 & x_{1,1000} & x_{2,1000} \\end{bmatrix}$$\n",
        "\n",
        "The sigmoid function can help us in differentiating two classes but only when we have the equation of the ideal line to pass into the function.\n",
        "\n",
        "How can we get the equation of the ideal line? It's simple. By minimzing the cost function for Logistic Regression.\n",
        "\n",
        "---"
      ],
      "metadata": {
        "id": "_4Vls2EkcQWH"
      }
    },
    {
      "cell_type": "markdown",
      "source": [
        "#**Cost Function**\n",
        "\n",
        "Just like Linear Regression had MSE as its cost function, Logistic Regression has one too. So let's derive it."
      ],
      "metadata": {
        "id": "7nthqsL6Hqat"
      }
    },
    {
      "cell_type": "markdown",
      "source": [
        "#**Likelihood Function**\n",
        "\n",
        "So...we know that Logistic Regression is used for binary classification. Meaning the predictions can only be 0 or 1 (Either it belongs to a class, or it doesn't). So suppose, the probability of something belonging to class 1 is $p$, then probability of it belonging to class 0 would be $1 - p$.\n",
        "\n",
        "\\begin{split}\n",
        "& P(y = 1) = p \\\\\n",
        "& P(y = 0) = 1 - p\n",
        "\\end{split}\n",
        "\n",
        "We can combine these two equations into something like this.\n",
        "\n",
        "\\begin{split}\n",
        "& P(y) = p^y(1 - p)^{1-y} \\\\\n",
        "\\end{split}\n",
        "\n",
        "If we substitute $y$ with $1$ we get the following .\n",
        "\n",
        "\\begin{split}\n",
        "P(y = 1) \n",
        "& = p^1 (1 - p)^{1 - 1} \\\\\n",
        "& ⇒ p (1 - p)^0 \\\\\n",
        "& ⇒ p\n",
        "\\end{split}\n",
        "\n",
        "If we substitute $y$ with $0$ we get the following .\n",
        "\n",
        "\\begin{split}\n",
        "P(y = 1) \n",
        "& = p^0 (1 - p)^{1 - 0} \\\\\n",
        "& ⇒ p^0 (1 - p)^1 \\\\\n",
        "& ⇒ 1 - p\n",
        "\\end{split}\n",
        "\n",
        "\\\n",
        "\n",
        "This equation is called the **likelihood function**, and it can give us the likelihood of one item belonging to a class. To get the likelihood function of all the items in a series, we just can just multiply the likelihood of all the items.\n",
        "\n",
        "\\begin{split}\n",
        "P(y) \n",
        "& = p_1^{y_1}(1 - p_1)^{1-y_1} × p_2^{y_2}(1 - p_2)^{1-y_2} × … × p_n^{y_n}(1 - p_n)^{1-y_n} \\\\[5px]\n",
        "& ⇒ \\prod_{i = 1}^n \\space p_i^{y_i}(1 - p_i)^{1-y_i}\n",
        "\\end{split}"
      ],
      "metadata": {
        "id": "UdcAn_IIAo36"
      }
    },
    {
      "cell_type": "markdown",
      "source": [
        "#**Log Likelihood Function**\n",
        "\n",
        "When we start applying it on a series, the likelihood function would have huge numbers in it. This would complexify our calculations. So to tackle this problem we can take the log of this function.\n",
        "\n",
        "\\begin{split}\n",
        "P(y) \n",
        "& = p_1^{y_1}(1 - p_1)^{1-y_1} × p_2^{y_2}(1 - p_2)^{1-y_2} × … × p_n^{y_n}(1 - p_n)^{1-y_n} \\\\[5px]\n",
        "& = log(p_1^{y_1}(1 - p_1)^{1-y_1} × p_2^{y_2}(1 - p_2)^{1-y_2} × … × p_n^{y_n}(1 - p_n)^{1-y_n}) \\\\[5px]\n",
        "& = log(p_1^{y_1}(1 - p_1)^{1-y_1}) + log(p_2^{y_2}(1 - p_2)^{1-y_2}) + … + log(p_n^{y_n}(1 - p_n)^{1-y_n}) \\\\[5px]\n",
        "& = (log(p_1^{y_1}) + log(1 - p_1)^{1-y_1}) + (log(p_2^{y_2}) + log(1 - p_2)^{1-y_2}) + … + (log(p_n^{y_n}) + log(1 - p_n)^{1-y_n}) \\\\[5px]\n",
        "& = (y_1 \\space log \\space p_1 + (1-y_1)log(1 - p_1)) + (y_2 \\space log \\space p_2 + (1-y_2)log(1 - p_2)) + … + (y_n \\space log \\space p_n + (1-y_n)log(1 - p_n)) \\\\[5px]\n",
        "& = \\sum_{i = 1}^{n} (y_i \\space log \\space p_i + (1-y_i)log(1 - p_i)\n",
        "\\end{split}\n",
        "\n",
        "\\\n",
        "\n",
        "This function takes in the values of $p_i$ and $1 - p_i$ which range from 0 to 1 (it takes in probabilities).\n",
        "\n",
        "Let's plot a log of numbers that fall between 0 and 1."
      ],
      "metadata": {
        "id": "4YbTOPsoHiJW"
      }
    },
    {
      "cell_type": "code",
      "source": [
        "# Log of numbers ranging from 0 to 1.\n",
        "series = np.linspace(0, 1, 100)\n",
        "px.scatter(x = series, y = np.log(series))"
      ],
      "metadata": {
        "id": "OtlO9lynTUKS"
      },
      "execution_count": null,
      "outputs": []
    },
    {
      "cell_type": "markdown",
      "source": [
        "As you can see the log of numbers from 0 to 1 is in negative. Meaning the whole function $P(y)$ would be negative for all the inputs. So we would multiply $-1$ with $P(y)$ to fix this.\n",
        "\n",
        "And one more thing. $\\sum_{i = 1}^{n} (y_i \\space log \\space p_i + (1-y_i)log(1 - p_i)$ gives us the sum of all errors and not the mean. So to fix this we can divide the whole equation by $n$ to get the mean of all errors.\n",
        "\n",
        "$$J = -\\frac1n \\sum_{i = 1}^{n} (y_i \\space log \\space p_i + (1-y_i)log(1 - p_i)$$\n",
        "\n",
        "And to avoid overfitting, let's add pennalisation to the equation just the way we added it to cost function for Ridge Regression.\n",
        "\n",
        "\n",
        "$$J = -\\frac1n \\sum_{i = 1}^{n} (y_i \\space log \\space p_i + (1-y_i)log(1 - p_i) + \\frac\\lambda n (\\sum_{i = 1}^n \\beta_i ^ 2)$$\n",
        "\n",
        "This function we have here is also called as the **Regularized Cost Function** and can help us in getting the error values for certain value of $\\beta$s."
      ],
      "metadata": {
        "id": "t52Dyrr6iPb8"
      }
    },
    {
      "cell_type": "markdown",
      "source": [
        "#**Gradient Descent**\n",
        "\n",
        "Now that we have our Cost Function all we need to do is find the minimum value of it to get the best predictions. And we can do this by applying partial differentation on the function.\n",
        "\n",
        "According to the Convergence Theorem, the ideal $\\beta$ value can be calculated using the equation below.\n",
        "\n",
        "$$\\beta_n = \\beta_n - \\left(\\frac{\\partial J}{\\partial \\beta_n}\\right) * L$$\n",
        "\n",
        "All we need to do is find the value of $\\frac{\\partial J}{\\partial \\beta_n}$ for each $\\beta$ and we are good to go.\n",
        "\n",
        "\\\n",
        "\n",
        "\\begin{align}\n",
        "J &= - \\frac{1}{n} \\sum_{i = 1} ^{n} (y_i \\log p_i  + (1 - y_i) \\log(1 - p_i)) + \\frac{\\lambda}{n}(\\beta_1^2 + \\beta_2^2 + \\dots + \\beta_n^2)\\\\\n",
        "\\frac{\\partial J}{\\partial \\beta_0} &=  - \\frac{1}{n} \\sum_{i = 1} ^{n} \\left( y_i \\times \\frac{1}{p_i} \\times \\frac{\\partial p_i}{\\partial \\beta_0} + (1 - y_i) \\times \\frac{-1}{1 - p_i} \\times \\frac{\\partial p_i}{\\partial \\beta_0} \\right) + \\frac{\\lambda}{n}\\times 0\n",
        "\\end{align}\n",
        "\n",
        "\\\n",
        "\n",
        "We know that\n",
        "\n",
        "\\begin{align}\n",
        "p_i &= \\frac{1}{1 + e^{-(\\beta_0 + \\beta_1 x_1 + \\beta_2 x_2 + \\dots + \\beta_n x_n)}} \\\\\n",
        "\\therefore \\frac{\\partial p_i}{\\partial \\beta_0} &= - \\left( \\frac{1}{1 + e^{-(\\beta_0 + \\beta_1 x_1 + \\beta_2 x_2 + \\dots + \\beta_n x_n)}} \\right)^2 (0 + e^{-(\\beta_0 + \\beta_1 x_1 + \\beta_2 x_2 + \\dots + \\beta_n x_n)})(-1 + 0) \\\\\n",
        "&= \\frac{e^{-(\\beta_0 + \\beta_1 x_1 + \\beta_2 x_2 + \\dots + \\beta_n x_n)}}{(1 + e^{-(\\beta_0 + \\beta_1 x_1 + \\beta_2 x_2 + \\dots + \\beta_n x_n)})^2} \\\\\n",
        "\\end{align}\n",
        "\n",
        "\\\n",
        "\n",
        "On adding $-1$ and $1$ to the above equation, we get\n",
        "\n",
        "\\begin{align}\n",
        "\\therefore \\frac{\\partial p_i}{\\partial \\beta_0} &= \\frac{1 + e^{-(\\beta_0 + \\beta_1 x_1 + \\beta_2 x_2 + \\dots + \\beta_n x_n)} - 1}{(1 + e^{-(\\beta_0 + \\beta_1 x_1 + \\beta_2 x_2 + \\dots + \\beta_n x_n)})^2} \\\\\n",
        "&= \\frac{1}{1 + e^{-(\\beta_0 + \\beta_1 x_1 + \\beta_2 x_2 + \\dots + \\beta_n x_n)}} - \\frac{1}{(1 + e^{-(\\beta_0 + \\beta_1 x_1 + \\beta_2 x_2 + \\dots + \\beta_n x_n)})^2} \\\\\n",
        "&= p_i - p_i^2 \\\\\n",
        "&= p_i(1 - p_i)\n",
        "\\end{align}\n",
        "\n",
        "\\\n",
        "\n",
        "On substituting $\\frac{\\partial p_i}{\\partial \\beta_0}$ in the derivative of the cost function with respect to $\\beta_0$, we get\n",
        "\n",
        "\\begin{align}\n",
        "\\frac{\\partial J}{\\partial \\beta_0} &=  - \\frac{1}{n} \\sum_{i = 1} ^{n} \\left( y_i \\times \\frac{1}{p_i} \\times p_i(1 - p_i) + (1 - y_i) \\times \\frac{-1}{1 - p_i} \\times p_i(1 - p_i) \\right) \\\\\n",
        "&=  - \\frac{1}{n} \\sum_{i = 1} ^{n} \\left( y_i (1 - p_i) - (1 - y_i) p_i\\right) \\\\\n",
        "&=  - \\frac{1}{n} \\sum_{i = 1} ^{n} (y_i  - y_i p_i - p_i + y_i p_i) \\\\\n",
        "\\Rightarrow \\frac{\\partial J}{\\partial \\beta_0} &=  \\frac{1}{n} \\sum_{i = 1} ^{n} (p_i  - y_i)\n",
        "\\end{align}\n",
        "\n",
        "\\\n",
        "\n",
        "Similarly, if you differentiate $J$ with respect to to $\\beta_1$, you will get \n",
        "\n",
        "\\begin{equation}\n",
        "\\frac{\\partial J}{\\partial \\beta_1} =  \\frac{1}{n} \\sum_{i = 1} ^{n} (p_i  - y_i)x_1 + \\frac{\\lambda}{n} \\beta_1 \\\\\n",
        "\\end{equation}\n",
        "\n",
        "\\\n",
        "\n",
        "In general, for $\\beta_n$ you will get\n",
        "\n",
        "\\begin{equation}\n",
        "\\frac{\\partial J}{\\partial \\beta_n} =  \\frac{1}{n} \\sum_{i = 1} ^{n} (p_i  - y_i)x_n + \\frac{\\lambda}{n} \\beta_n \\\\\n",
        "\\end{equation}"
      ],
      "metadata": {
        "id": "fBWif-MdT37_"
      }
    },
    {
      "cell_type": "markdown",
      "source": [
        "Now let's code this into Python."
      ],
      "metadata": {
        "id": "rqB0oIU1Fs6Y"
      }
    },
    {
      "cell_type": "code",
      "source": [
        "# Creating a function for the cost function.\n",
        "def reg_cost_function(betas, x, y, penn_const):\n",
        "  n = x.shape[0]\n",
        "  series = np.matmul(betas, np.transpose(x))\n",
        "  p = sigmoid(series)\n",
        "  y = y.reshape(1, n)\n",
        "\n",
        "  class_0 = y * np.log(p)\n",
        "  class_1 = (1 - y) * np.log(1 - p)\n",
        "\n",
        "  cf = (-1 / n) * np.sum(class_0 + class_1)\n",
        "  pennalize = penn_const/(2 * n) * np.sum(betas[:, 1:]**2)\n",
        "\n",
        "  grad = np.zeros((1, betas.shape[1]))\n",
        "\n",
        "  for i in range(betas.shape[1]):\n",
        "    grad[0, i] = (1/n) * np.matmul(p - y, x[:, i])\n",
        "\n",
        "  return (cf + pennalize, grad)"
      ],
      "metadata": {
        "id": "RaS8psNp0YHb"
      },
      "execution_count": null,
      "outputs": []
    },
    {
      "cell_type": "code",
      "source": [
        "# Creating a function for gradient descent.\n",
        "def gradient_descent(X, y, beta, learn_rate, num_iters, penn_const):\n",
        "  m = X.shape[0]\n",
        "  cost_func_values = []\n",
        "  \n",
        "  for i in range(num_iters):\n",
        "    cost, grad = reg_cost_function(beta, X, y, penn_const)\n",
        "    beta[0][0] = beta[0][0] - learn_rate * grad[0][0]\n",
        "    beta[0][1] = beta[0][1] - learn_rate * (grad[0][1] + penn_const * beta[0][1] / m)\n",
        "    beta[0][2] = beta[0][2] - learn_rate * (grad[0][2] + penn_const * beta[0][2] / m)\n",
        "    cost_func_values.append(cost)\n",
        "\n",
        "  return beta, cost_func_values"
      ],
      "metadata": {
        "id": "Cs1rZDAC0bly"
      },
      "execution_count": null,
      "outputs": []
    },
    {
      "cell_type": "markdown",
      "source": [
        "Now that we have both the function ready, let's use them to seperate the two classes."
      ],
      "metadata": {
        "id": "7OlD7WC3F3x-"
      }
    },
    {
      "cell_type": "code",
      "source": [
        "# Seperating the features and targets.\n",
        "features_array = df.iloc[:, :-1].values\n",
        "target_array = df.iloc[:, -1].values"
      ],
      "metadata": {
        "id": "8DfHPvt72POx"
      },
      "execution_count": null,
      "outputs": []
    },
    {
      "cell_type": "code",
      "source": [
        "# Getting the function inputs ready.\n",
        "x = np.append(np.ones((features_array.shape[0], 1)), features_array, axis = 1)\n",
        "y = target_array\n",
        "betas = np.zeros((1, x.shape[1]))"
      ],
      "metadata": {
        "id": "lIXllIrugoHk"
      },
      "execution_count": null,
      "outputs": []
    },
    {
      "cell_type": "code",
      "source": [
        "# Applying the functions.\n",
        "results = gradient_descent(x, y, betas, 0.001, 10000, 10)"
      ],
      "metadata": {
        "id": "fT7p-CAry26H"
      },
      "execution_count": null,
      "outputs": []
    },
    {
      "cell_type": "code",
      "source": [
        "# Checking the beta values.\n",
        "betas = results[0].ravel()\n",
        "betas"
      ],
      "metadata": {
        "id": "58g5dfVw0gkR"
      },
      "execution_count": null,
      "outputs": []
    },
    {
      "cell_type": "markdown",
      "source": [
        "Now that we have the ideal beta values for the ideal line, let's use them to plot a line and pass it inside the sigmoid function."
      ],
      "metadata": {
        "id": "A0i4zZxL3rps"
      }
    },
    {
      "cell_type": "code",
      "source": [
        "# Plotting the new line for seperation.\n",
        "pred = betas[1] * df[\"Feature 1\"] + betas[0]\n",
        "\n",
        "fig = px.scatter(data_frame = df, x = \"Feature 1\", y = \"Target\", color = \"Target\", color_continuous_scale = [\"red\", \"blue\"])\n",
        "fig.add_traces(px.scatter(data_frame = df, x = \"Feature 1\", y = sigmoid(pred), color_discrete_sequence = [\"orange\"]).data)\n",
        "fig.show()"
      ],
      "metadata": {
        "id": "_0WHdNL63zmp"
      },
      "execution_count": null,
      "outputs": []
    },
    {
      "cell_type": "markdown",
      "source": [
        "As you can see, the issue of having predictions ranging from $- ∞$ to $+ ∞$ is solved here. \n",
        "\n",
        "Now let's plot a decision boundary to seperate the two classes. But wait...what is a decision boundary? "
      ],
      "metadata": {
        "id": "uNWRiwWH4vJQ"
      }
    },
    {
      "cell_type": "markdown",
      "source": [
        "#**Decision Boundary**\n",
        "\n",
        "In the simplest terms, a decision boundary is just a line that can help us in identifying which point belongs to which class. The image below can help you understand a decision boundary much more clearly.\n",
        "\n",
        "\\\n",
        "\n",
        "<center><img src = \"https://www.jeremyjordan.me/content/images/2017/06/Screen-Shot-2017-06-10-at-9.41.25-AM.png\" width = 50%></center>\n",
        "\n",
        "\\\n",
        "\n",
        "Here the blue line seperates the two classes which are represented as green and red dots. Any point to the left of the decision boundary belongs to the class represented with the red dots. Any point to the right belongs to the classs represented with the green dots. That's all what a decision boundary does.\n",
        "\n",
        "\\\n",
        "\n",
        "It can be calculated using the equation of the straight line itself. The equation of the straight line in the general form can be given as this -\n",
        "\n",
        "$$ax + by + c = 0$$\n",
        "\n",
        "Where,\n",
        "\n",
        "- a is the coefficient of x,\n",
        "- b is the coefficient of y.\n",
        "- c is some arbitrary constant.\n",
        "\n",
        "Using this equation we can assume that the equation of the decision boundary is -\n",
        "\n",
        "$$\\beta_0 + \\beta_1 x_1 + \\beta_2 x_2 = 0$$\n",
        "\n",
        "Where,\n",
        "\n",
        "- $x_1$ is the $1^{st}$ feature variable.\n",
        "- $x_2$ is the $2^{nd}$ feature variable.\n",
        "\n",
        "If we are able to calculate $x_2$ values for certain $x_1$ values, then we would be able to plot our decision boundary. This can be done this way.\n",
        "\n",
        "\\begin{split}\n",
        "& \\beta_0 + \\beta_1 x_1 + \\beta_2 x_2 = 0 \\\\[5px]\n",
        "& \\Rightarrow \\beta_2 x_2 = -(\\beta_0 + \\beta_1 x_1) \\\\[5px]\n",
        "& \\Rightarrow x_2 = - \\left(\\frac{\\beta_0 + \\beta_1 x_1}{\\beta_2}\\right)\n",
        "\\end{split}\n",
        "\n",
        "Let's code this using Python.\n",
        "\n"
      ],
      "metadata": {
        "id": "CSTuliQvG7VB"
      }
    },
    {
      "cell_type": "code",
      "source": [
        "# Using the betas to plot a decision boundary.\n",
        "pred = (-betas[0] -betas[1]*df[\"Feature 1\"])/betas[2]\n",
        "\n",
        "fig = px.scatter(data_frame = df[df[\"Target\"] == 0], x = \"Feature 1\", y = \"Feature 2\")\n",
        "fig.add_traces(px.scatter(data_frame = df[df[\"Target\"] == 1], x = \"Feature 1\", y = \"Feature 2\", color_discrete_sequence = \"red\", color = \"Target\").data)\n",
        "fig.add_traces(px.line(x = df[\"Feature 1\"], y = pred, color_discrete_sequence = [\"orange\"]).data)\n",
        "fig"
      ],
      "metadata": {
        "id": "76-90npbayDX"
      },
      "execution_count": null,
      "outputs": []
    },
    {
      "cell_type": "markdown",
      "source": [
        "As you can see, the decision boundary we plotted is able to seperate the two classes. Most of the points to the left of the boundary belong to the class 0, while most of the points to the right of the boundary belong to class 1."
      ],
      "metadata": {
        "id": "vbhRG6-kMU2l"
      }
    },
    {
      "cell_type": "markdown",
      "source": [
        "We can also get the predictions for each feature variable by just mutliplying the $B$ and $X^T$ matrices. Once we have these predictions, we'll have to convert them into a sigmoidal series which would give us the probabilty of of an item belonging to class 1. In our example class 1 is $y = 1$, or the case in which a person bought something."
      ],
      "metadata": {
        "id": "UTOr8BXazVV7"
      }
    },
    {
      "cell_type": "code",
      "source": [
        "# Getting the predictions.\n",
        "features_array = np.append(np.ones((features_array.shape[0], 1)), features_array, axis = 1)\n",
        "best_fit_line = np.matmul(betas, np.transpose(features_array))\n",
        "sigmoid_outputs = sigmoid(best_fit_line)"
      ],
      "metadata": {
        "id": "Q6WLCB0MsHcl"
      },
      "execution_count": null,
      "outputs": []
    },
    {
      "cell_type": "code",
      "source": [
        "# Assigning classes to each prediction.\n",
        "y_pred = np.array([1 if output >= 0.5 else 0 for output in sigmoid_outputs])\n",
        "y_pred"
      ],
      "metadata": {
        "id": "bamnGM7tsn0O"
      },
      "execution_count": null,
      "outputs": []
    },
    {
      "cell_type": "markdown",
      "source": [
        "Now that we have assigned each item a class based upon the predictions, let's check the accuracy of our predictions."
      ],
      "metadata": {
        "id": "g82QJdBW0BnU"
      }
    },
    {
      "cell_type": "code",
      "source": [
        "# Checking the accuracy.\n",
        "correct_preds_count = np.unique((y == y_pred), return_counts = True)[1][1]\n",
        "accuracy = (correct_preds_count/y.shape[0]) * 100\n",
        "accuracy"
      ],
      "metadata": {
        "id": "pGmXDqbHyttZ"
      },
      "execution_count": null,
      "outputs": []
    },
    {
      "cell_type": "markdown",
      "source": [
        "Our model gave us $84.25 \\%$ accuracy. That's a good score!!\n",
        "\n",
        "---"
      ],
      "metadata": {
        "id": "le_GhXhC0JT3"
      }
    },
    {
      "cell_type": "markdown",
      "source": [
        "We have successfully created an ML algorithm that uses Logistic Regression.\n",
        "\n",
        "#END OF THE NOTEBOOK"
      ],
      "metadata": {
        "id": "W4tsCp6l5Bqf"
      }
    }
  ]
}